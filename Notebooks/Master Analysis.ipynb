{
 "cells": [
  {
   "cell_type": "markdown",
   "metadata": {},
   "source": [
    "# Master Analysis of Competing Streaming Services \n",
    "\n",
    "---\n",
    "\n",
    "Analyzing and reviewing data of five competing streaming services (Amazon Prime, Apple TV, Hulu, HBO Max, and Netflix) and determining which streaming service has the highest IMDB rating and popular movie titles. This notebook aims to provide exploratory data analysis and visualization techniques using various datasets by leveraging skills learned in Python, Jupyter, Matplotlib, and Pandas. "
   ]
  },
  {
   "cell_type": "code",
   "execution_count": 91,
   "metadata": {},
   "outputs": [
    {
     "data": {
      "text/html": [
       "<script type=\"esms-options\">{\"shimMode\": true}</script><style>*[data-root-id],\n",
       "*[data-root-id] > * {\n",
       "  box-sizing: border-box;\n",
       "  font-family: var(--jp-ui-font-family);\n",
       "  font-size: var(--jp-ui-font-size1);\n",
       "  color: var(--vscode-editor-foreground, var(--jp-ui-font-color1));\n",
       "}\n",
       "\n",
       "/* Override VSCode background color */\n",
       ".cell-output-ipywidget-background:has(\n",
       "    > .cell-output-ipywidget-background > .lm-Widget > *[data-root-id]\n",
       "  ),\n",
       ".cell-output-ipywidget-background:has(> .lm-Widget > *[data-root-id]) {\n",
       "  background-color: transparent !important;\n",
       "}\n",
       "</style>"
      ]
     },
     "metadata": {},
     "output_type": "display_data"
    },
    {
     "data": {
      "application/javascript": "(function(root) {\n  function now() {\n    return new Date();\n  }\n\n  const force = true;\n  const py_version = '3.6.0'.replace('rc', '-rc.').replace('.dev', '-dev.');\n  const reloading = false;\n  const Bokeh = root.Bokeh;\n\n  // Set a timeout for this load but only if we are not already initializing\n  if (typeof (root._bokeh_timeout) === \"undefined\" || (force || !root._bokeh_is_initializing)) {\n    root._bokeh_timeout = Date.now() + 5000;\n    root._bokeh_failed_load = false;\n  }\n\n  function run_callbacks() {\n    try {\n      root._bokeh_onload_callbacks.forEach(function(callback) {\n        if (callback != null)\n          callback();\n      });\n    } finally {\n      delete root._bokeh_onload_callbacks;\n    }\n    console.debug(\"Bokeh: all callbacks have finished\");\n  }\n\n  function load_libs(css_urls, js_urls, js_modules, js_exports, callback) {\n    if (css_urls == null) css_urls = [];\n    if (js_urls == null) js_urls = [];\n    if (js_modules == null) js_modules = [];\n    if (js_exports == null) js_exports = {};\n\n    root._bokeh_onload_callbacks.push(callback);\n\n    if (root._bokeh_is_loading > 0) {\n      // Don't load bokeh if it is still initializing\n      console.debug(\"Bokeh: BokehJS is being loaded, scheduling callback at\", now());\n      return null;\n    } else if (js_urls.length === 0 && js_modules.length === 0 && Object.keys(js_exports).length === 0) {\n      // There is nothing to load\n      run_callbacks();\n      return null;\n    }\n\n    function on_load() {\n      root._bokeh_is_loading--;\n      if (root._bokeh_is_loading === 0) {\n        console.debug(\"Bokeh: all BokehJS libraries/stylesheets loaded\");\n        run_callbacks()\n      }\n    }\n    window._bokeh_on_load = on_load\n\n    function on_error(e) {\n      const src_el = e.srcElement\n      console.error(\"failed to load \" + (src_el.href || src_el.src));\n    }\n\n    const skip = [];\n    if (window.requirejs) {\n      window.requirejs.config({'packages': {}, 'paths': {}, 'shim': {}});\n      root._bokeh_is_loading = css_urls.length + 0;\n    } else {\n      root._bokeh_is_loading = css_urls.length + js_urls.length + js_modules.length + Object.keys(js_exports).length;\n    }\n\n    const existing_stylesheets = []\n    const links = document.getElementsByTagName('link')\n    for (let i = 0; i < links.length; i++) {\n      const link = links[i]\n      if (link.href != null) {\n        existing_stylesheets.push(link.href)\n      }\n    }\n    for (let i = 0; i < css_urls.length; i++) {\n      const url = css_urls[i];\n      const escaped = encodeURI(url)\n      if (existing_stylesheets.indexOf(escaped) !== -1) {\n        on_load()\n        continue;\n      }\n      const element = document.createElement(\"link\");\n      element.onload = on_load;\n      element.onerror = on_error;\n      element.rel = \"stylesheet\";\n      element.type = \"text/css\";\n      element.href = url;\n      console.debug(\"Bokeh: injecting link tag for BokehJS stylesheet: \", url);\n      document.body.appendChild(element);\n    }    var existing_scripts = []\n    const scripts = document.getElementsByTagName('script')\n    for (let i = 0; i < scripts.length; i++) {\n      var script = scripts[i]\n      if (script.src != null) {\n        existing_scripts.push(script.src)\n      }\n    }\n    for (let i = 0; i < js_urls.length; i++) {\n      const url = js_urls[i];\n      const escaped = encodeURI(url)\n      if (skip.indexOf(escaped) !== -1 || existing_scripts.indexOf(escaped) !== -1) {\n        if (!window.requirejs) {\n          on_load();\n        }\n        continue;\n      }\n      const element = document.createElement('script');\n      element.onload = on_load;\n      element.onerror = on_error;\n      element.async = false;\n      element.src = url;\n      console.debug(\"Bokeh: injecting script tag for BokehJS library: \", url);\n      document.head.appendChild(element);\n    }\n    for (let i = 0; i < js_modules.length; i++) {\n      const url = js_modules[i];\n      const escaped = encodeURI(url)\n      if (skip.indexOf(escaped) !== -1 || existing_scripts.indexOf(escaped) !== -1) {\n        if (!window.requirejs) {\n          on_load();\n        }\n        continue;\n      }\n      var element = document.createElement('script');\n      element.onload = on_load;\n      element.onerror = on_error;\n      element.async = false;\n      element.src = url;\n      element.type = \"module\";\n      console.debug(\"Bokeh: injecting script tag for BokehJS library: \", url);\n      document.head.appendChild(element);\n    }\n    for (const name in js_exports) {\n      const url = js_exports[name];\n      const escaped = encodeURI(url)\n      if (skip.indexOf(escaped) >= 0 || root[name] != null) {\n        if (!window.requirejs) {\n          on_load();\n        }\n        continue;\n      }\n      var element = document.createElement('script');\n      element.onerror = on_error;\n      element.async = false;\n      element.type = \"module\";\n      console.debug(\"Bokeh: injecting script tag for BokehJS library: \", url);\n      element.textContent = `\n      import ${name} from \"${url}\"\n      window.${name} = ${name}\n      window._bokeh_on_load()\n      `\n      document.head.appendChild(element);\n    }\n    if (!js_urls.length && !js_modules.length) {\n      on_load()\n    }\n  };\n\n  function inject_raw_css(css) {\n    const element = document.createElement(\"style\");\n    element.appendChild(document.createTextNode(css));\n    document.body.appendChild(element);\n  }\n\n  const js_urls = [\"https://cdn.holoviz.org/panel/1.5.4/dist/bundled/reactiveesm/es-module-shims@^1.10.0/dist/es-module-shims.min.js\", \"https://cdn.bokeh.org/bokeh/release/bokeh-3.6.0.min.js\", \"https://cdn.bokeh.org/bokeh/release/bokeh-gl-3.6.0.min.js\", \"https://cdn.bokeh.org/bokeh/release/bokeh-widgets-3.6.0.min.js\", \"https://cdn.bokeh.org/bokeh/release/bokeh-tables-3.6.0.min.js\", \"https://cdn.holoviz.org/panel/1.5.4/dist/panel.min.js\"];\n  const js_modules = [];\n  const js_exports = {};\n  const css_urls = [];\n  const inline_js = [    function(Bokeh) {\n      Bokeh.set_log_level(\"info\");\n    },\nfunction(Bokeh) {} // ensure no trailing comma for IE\n  ];\n\n  function run_inline_js() {\n    if ((root.Bokeh !== undefined) || (force === true)) {\n      for (let i = 0; i < inline_js.length; i++) {\n        try {\n          inline_js[i].call(root, root.Bokeh);\n        } catch(e) {\n          if (!reloading) {\n            throw e;\n          }\n        }\n      }\n      // Cache old bokeh versions\n      if (Bokeh != undefined && !reloading) {\n        var NewBokeh = root.Bokeh;\n        if (Bokeh.versions === undefined) {\n          Bokeh.versions = new Map();\n        }\n        if (NewBokeh.version !== Bokeh.version) {\n          Bokeh.versions.set(NewBokeh.version, NewBokeh)\n        }\n        root.Bokeh = Bokeh;\n      }\n    } else if (Date.now() < root._bokeh_timeout) {\n      setTimeout(run_inline_js, 100);\n    } else if (!root._bokeh_failed_load) {\n      console.log(\"Bokeh: BokehJS failed to load within specified timeout.\");\n      root._bokeh_failed_load = true;\n    }\n    root._bokeh_is_initializing = false\n  }\n\n  function load_or_wait() {\n    // Implement a backoff loop that tries to ensure we do not load multiple\n    // versions of Bokeh and its dependencies at the same time.\n    // In recent versions we use the root._bokeh_is_initializing flag\n    // to determine whether there is an ongoing attempt to initialize\n    // bokeh, however for backward compatibility we also try to ensure\n    // that we do not start loading a newer (Panel>=1.0 and Bokeh>3) version\n    // before older versions are fully initialized.\n    if (root._bokeh_is_initializing && Date.now() > root._bokeh_timeout) {\n      // If the timeout and bokeh was not successfully loaded we reset\n      // everything and try loading again\n      root._bokeh_timeout = Date.now() + 5000;\n      root._bokeh_is_initializing = false;\n      root._bokeh_onload_callbacks = undefined;\n      root._bokeh_is_loading = 0\n      console.log(\"Bokeh: BokehJS was loaded multiple times but one version failed to initialize.\");\n      load_or_wait();\n    } else if (root._bokeh_is_initializing || (typeof root._bokeh_is_initializing === \"undefined\" && root._bokeh_onload_callbacks !== undefined)) {\n      setTimeout(load_or_wait, 100);\n    } else {\n      root._bokeh_is_initializing = true\n      root._bokeh_onload_callbacks = []\n      const bokeh_loaded = root.Bokeh != null && (root.Bokeh.version === py_version || (root.Bokeh.versions !== undefined && root.Bokeh.versions.has(py_version)));\n      if (!reloading && !bokeh_loaded) {\n        if (root.Bokeh) {\n          root.Bokeh = undefined;\n        }\n        console.debug(\"Bokeh: BokehJS not loaded, scheduling load and callback at\", now());\n      }\n      load_libs(css_urls, js_urls, js_modules, js_exports, function() {\n        console.debug(\"Bokeh: BokehJS plotting callback run at\", now());\n        run_inline_js();\n      });\n    }\n  }\n  // Give older versions of the autoload script a head-start to ensure\n  // they initialize before we start loading newer version.\n  setTimeout(load_or_wait, 100)\n}(window));",
      "application/vnd.holoviews_load.v0+json": ""
     },
     "metadata": {},
     "output_type": "display_data"
    },
    {
     "data": {
      "application/javascript": "\nif ((window.PyViz === undefined) || (window.PyViz instanceof HTMLElement)) {\n  window.PyViz = {comms: {}, comm_status:{}, kernels:{}, receivers: {}, plot_index: []}\n}\n\n\n    function JupyterCommManager() {\n    }\n\n    JupyterCommManager.prototype.register_target = function(plot_id, comm_id, msg_handler) {\n      if (window.comm_manager || ((window.Jupyter !== undefined) && (Jupyter.notebook.kernel != null))) {\n        var comm_manager = window.comm_manager || Jupyter.notebook.kernel.comm_manager;\n        comm_manager.register_target(comm_id, function(comm) {\n          comm.on_msg(msg_handler);\n        });\n      } else if ((plot_id in window.PyViz.kernels) && (window.PyViz.kernels[plot_id])) {\n        window.PyViz.kernels[plot_id].registerCommTarget(comm_id, function(comm) {\n          comm.onMsg = msg_handler;\n        });\n      } else if (typeof google != 'undefined' && google.colab.kernel != null) {\n        google.colab.kernel.comms.registerTarget(comm_id, (comm) => {\n          var messages = comm.messages[Symbol.asyncIterator]();\n          function processIteratorResult(result) {\n            var message = result.value;\n            console.log(message)\n            var content = {data: message.data, comm_id};\n            var buffers = []\n            for (var buffer of message.buffers || []) {\n              buffers.push(new DataView(buffer))\n            }\n            var metadata = message.metadata || {};\n            var msg = {content, buffers, metadata}\n            msg_handler(msg);\n            return messages.next().then(processIteratorResult);\n          }\n          return messages.next().then(processIteratorResult);\n        })\n      }\n    }\n\n    JupyterCommManager.prototype.get_client_comm = function(plot_id, comm_id, msg_handler) {\n      if (comm_id in window.PyViz.comms) {\n        return window.PyViz.comms[comm_id];\n      } else if (window.comm_manager || ((window.Jupyter !== undefined) && (Jupyter.notebook.kernel != null))) {\n        var comm_manager = window.comm_manager || Jupyter.notebook.kernel.comm_manager;\n        var comm = comm_manager.new_comm(comm_id, {}, {}, {}, comm_id);\n        if (msg_handler) {\n          comm.on_msg(msg_handler);\n        }\n      } else if ((plot_id in window.PyViz.kernels) && (window.PyViz.kernels[plot_id])) {\n        var comm = window.PyViz.kernels[plot_id].connectToComm(comm_id);\n        comm.open();\n        if (msg_handler) {\n          comm.onMsg = msg_handler;\n        }\n      } else if (typeof google != 'undefined' && google.colab.kernel != null) {\n        var comm_promise = google.colab.kernel.comms.open(comm_id)\n        comm_promise.then((comm) => {\n          window.PyViz.comms[comm_id] = comm;\n          if (msg_handler) {\n            var messages = comm.messages[Symbol.asyncIterator]();\n            function processIteratorResult(result) {\n              var message = result.value;\n              var content = {data: message.data};\n              var metadata = message.metadata || {comm_id};\n              var msg = {content, metadata}\n              msg_handler(msg);\n              return messages.next().then(processIteratorResult);\n            }\n            return messages.next().then(processIteratorResult);\n          }\n        }) \n        var sendClosure = (data, metadata, buffers, disposeOnDone) => {\n          return comm_promise.then((comm) => {\n            comm.send(data, metadata, buffers, disposeOnDone);\n          });\n        };\n        var comm = {\n          send: sendClosure\n        };\n      }\n      window.PyViz.comms[comm_id] = comm;\n      return comm;\n    }\n    window.PyViz.comm_manager = new JupyterCommManager();\n    \n\n\nvar JS_MIME_TYPE = 'application/javascript';\nvar HTML_MIME_TYPE = 'text/html';\nvar EXEC_MIME_TYPE = 'application/vnd.holoviews_exec.v0+json';\nvar CLASS_NAME = 'output';\n\n/**\n * Render data to the DOM node\n */\nfunction render(props, node) {\n  var div = document.createElement(\"div\");\n  var script = document.createElement(\"script\");\n  node.appendChild(div);\n  node.appendChild(script);\n}\n\n/**\n * Handle when a new output is added\n */\nfunction handle_add_output(event, handle) {\n  var output_area = handle.output_area;\n  var output = handle.output;\n  if ((output.data == undefined) || (!output.data.hasOwnProperty(EXEC_MIME_TYPE))) {\n    return\n  }\n  var id = output.metadata[EXEC_MIME_TYPE][\"id\"];\n  var toinsert = output_area.element.find(\".\" + CLASS_NAME.split(' ')[0]);\n  if (id !== undefined) {\n    var nchildren = toinsert.length;\n    var html_node = toinsert[nchildren-1].children[0];\n    html_node.innerHTML = output.data[HTML_MIME_TYPE];\n    var scripts = [];\n    var nodelist = html_node.querySelectorAll(\"script\");\n    for (var i in nodelist) {\n      if (nodelist.hasOwnProperty(i)) {\n        scripts.push(nodelist[i])\n      }\n    }\n\n    scripts.forEach( function (oldScript) {\n      var newScript = document.createElement(\"script\");\n      var attrs = [];\n      var nodemap = oldScript.attributes;\n      for (var j in nodemap) {\n        if (nodemap.hasOwnProperty(j)) {\n          attrs.push(nodemap[j])\n        }\n      }\n      attrs.forEach(function(attr) { newScript.setAttribute(attr.name, attr.value) });\n      newScript.appendChild(document.createTextNode(oldScript.innerHTML));\n      oldScript.parentNode.replaceChild(newScript, oldScript);\n    });\n    if (JS_MIME_TYPE in output.data) {\n      toinsert[nchildren-1].children[1].textContent = output.data[JS_MIME_TYPE];\n    }\n    output_area._hv_plot_id = id;\n    if ((window.Bokeh !== undefined) && (id in Bokeh.index)) {\n      window.PyViz.plot_index[id] = Bokeh.index[id];\n    } else {\n      window.PyViz.plot_index[id] = null;\n    }\n  } else if (output.metadata[EXEC_MIME_TYPE][\"server_id\"] !== undefined) {\n    var bk_div = document.createElement(\"div\");\n    bk_div.innerHTML = output.data[HTML_MIME_TYPE];\n    var script_attrs = bk_div.children[0].attributes;\n    for (var i = 0; i < script_attrs.length; i++) {\n      toinsert[toinsert.length - 1].childNodes[1].setAttribute(script_attrs[i].name, script_attrs[i].value);\n    }\n    // store reference to server id on output_area\n    output_area._bokeh_server_id = output.metadata[EXEC_MIME_TYPE][\"server_id\"];\n  }\n}\n\n/**\n * Handle when an output is cleared or removed\n */\nfunction handle_clear_output(event, handle) {\n  var id = handle.cell.output_area._hv_plot_id;\n  var server_id = handle.cell.output_area._bokeh_server_id;\n  if (((id === undefined) || !(id in PyViz.plot_index)) && (server_id !== undefined)) { return; }\n  var comm = window.PyViz.comm_manager.get_client_comm(\"hv-extension-comm\", \"hv-extension-comm\", function () {});\n  if (server_id !== null) {\n    comm.send({event_type: 'server_delete', 'id': server_id});\n    return;\n  } else if (comm !== null) {\n    comm.send({event_type: 'delete', 'id': id});\n  }\n  delete PyViz.plot_index[id];\n  if ((window.Bokeh !== undefined) & (id in window.Bokeh.index)) {\n    var doc = window.Bokeh.index[id].model.document\n    doc.clear();\n    const i = window.Bokeh.documents.indexOf(doc);\n    if (i > -1) {\n      window.Bokeh.documents.splice(i, 1);\n    }\n  }\n}\n\n/**\n * Handle kernel restart event\n */\nfunction handle_kernel_cleanup(event, handle) {\n  delete PyViz.comms[\"hv-extension-comm\"];\n  window.PyViz.plot_index = {}\n}\n\n/**\n * Handle update_display_data messages\n */\nfunction handle_update_output(event, handle) {\n  handle_clear_output(event, {cell: {output_area: handle.output_area}})\n  handle_add_output(event, handle)\n}\n\nfunction register_renderer(events, OutputArea) {\n  function append_mime(data, metadata, element) {\n    // create a DOM node to render to\n    var toinsert = this.create_output_subarea(\n    metadata,\n    CLASS_NAME,\n    EXEC_MIME_TYPE\n    );\n    this.keyboard_manager.register_events(toinsert);\n    // Render to node\n    var props = {data: data, metadata: metadata[EXEC_MIME_TYPE]};\n    render(props, toinsert[0]);\n    element.append(toinsert);\n    return toinsert\n  }\n\n  events.on('output_added.OutputArea', handle_add_output);\n  events.on('output_updated.OutputArea', handle_update_output);\n  events.on('clear_output.CodeCell', handle_clear_output);\n  events.on('delete.Cell', handle_clear_output);\n  events.on('kernel_ready.Kernel', handle_kernel_cleanup);\n\n  OutputArea.prototype.register_mime_type(EXEC_MIME_TYPE, append_mime, {\n    safe: true,\n    index: 0\n  });\n}\n\nif (window.Jupyter !== undefined) {\n  try {\n    var events = require('base/js/events');\n    var OutputArea = require('notebook/js/outputarea').OutputArea;\n    if (OutputArea.prototype.mime_types().indexOf(EXEC_MIME_TYPE) == -1) {\n      register_renderer(events, OutputArea);\n    }\n  } catch(err) {\n  }\n}\n",
      "application/vnd.holoviews_load.v0+json": ""
     },
     "metadata": {},
     "output_type": "display_data"
    },
    {
     "data": {
      "application/vnd.holoviews_exec.v0+json": "",
      "text/html": [
       "<div id='e105d691-750f-40e0-9a98-affd5cb5ecab'>\n",
       "  <div id=\"bd267ea5-3876-4b5f-95e4-ccfb5f904fab\" data-root-id=\"e105d691-750f-40e0-9a98-affd5cb5ecab\" style=\"display: contents;\"></div>\n",
       "</div>\n",
       "<script type=\"application/javascript\">(function(root) {\n",
       "  var docs_json = {\"c88b1a0c-a9ef-4d99-9ecd-f637805a3b1e\":{\"version\":\"3.6.0\",\"title\":\"Bokeh Application\",\"roots\":[{\"type\":\"object\",\"name\":\"panel.models.browser.BrowserInfo\",\"id\":\"e105d691-750f-40e0-9a98-affd5cb5ecab\"},{\"type\":\"object\",\"name\":\"panel.models.comm_manager.CommManager\",\"id\":\"eb68252d-bdf4-4b37-83fc-3c1e296cc372\",\"attributes\":{\"plot_id\":\"e105d691-750f-40e0-9a98-affd5cb5ecab\",\"comm_id\":\"d9f2fc3cd85a4b99baf7a1a1812ee0d9\",\"client_comm_id\":\"1744925a875e49f1b75044bc6d6fee59\"}}],\"defs\":[{\"type\":\"model\",\"name\":\"ReactiveHTML1\"},{\"type\":\"model\",\"name\":\"FlexBox1\",\"properties\":[{\"name\":\"align_content\",\"kind\":\"Any\",\"default\":\"flex-start\"},{\"name\":\"align_items\",\"kind\":\"Any\",\"default\":\"flex-start\"},{\"name\":\"flex_direction\",\"kind\":\"Any\",\"default\":\"row\"},{\"name\":\"flex_wrap\",\"kind\":\"Any\",\"default\":\"wrap\"},{\"name\":\"gap\",\"kind\":\"Any\",\"default\":\"\"},{\"name\":\"justify_content\",\"kind\":\"Any\",\"default\":\"flex-start\"}]},{\"type\":\"model\",\"name\":\"FloatPanel1\",\"properties\":[{\"name\":\"config\",\"kind\":\"Any\",\"default\":{\"type\":\"map\"}},{\"name\":\"contained\",\"kind\":\"Any\",\"default\":true},{\"name\":\"position\",\"kind\":\"Any\",\"default\":\"right-top\"},{\"name\":\"offsetx\",\"kind\":\"Any\",\"default\":null},{\"name\":\"offsety\",\"kind\":\"Any\",\"default\":null},{\"name\":\"theme\",\"kind\":\"Any\",\"default\":\"primary\"},{\"name\":\"status\",\"kind\":\"Any\",\"default\":\"normalized\"}]},{\"type\":\"model\",\"name\":\"GridStack1\",\"properties\":[{\"name\":\"mode\",\"kind\":\"Any\",\"default\":\"warn\"},{\"name\":\"ncols\",\"kind\":\"Any\",\"default\":null},{\"name\":\"nrows\",\"kind\":\"Any\",\"default\":null},{\"name\":\"allow_resize\",\"kind\":\"Any\",\"default\":true},{\"name\":\"allow_drag\",\"kind\":\"Any\",\"default\":true},{\"name\":\"state\",\"kind\":\"Any\",\"default\":[]}]},{\"type\":\"model\",\"name\":\"drag1\",\"properties\":[{\"name\":\"slider_width\",\"kind\":\"Any\",\"default\":5},{\"name\":\"slider_color\",\"kind\":\"Any\",\"default\":\"black\"},{\"name\":\"value\",\"kind\":\"Any\",\"default\":50}]},{\"type\":\"model\",\"name\":\"click1\",\"properties\":[{\"name\":\"terminal_output\",\"kind\":\"Any\",\"default\":\"\"},{\"name\":\"debug_name\",\"kind\":\"Any\",\"default\":\"\"},{\"name\":\"clears\",\"kind\":\"Any\",\"default\":0}]},{\"type\":\"model\",\"name\":\"FastWrapper1\",\"properties\":[{\"name\":\"object\",\"kind\":\"Any\",\"default\":null},{\"name\":\"style\",\"kind\":\"Any\",\"default\":null}]},{\"type\":\"model\",\"name\":\"NotificationAreaBase1\",\"properties\":[{\"name\":\"js_events\",\"kind\":\"Any\",\"default\":{\"type\":\"map\"}},{\"name\":\"position\",\"kind\":\"Any\",\"default\":\"bottom-right\"},{\"name\":\"_clear\",\"kind\":\"Any\",\"default\":0}]},{\"type\":\"model\",\"name\":\"NotificationArea1\",\"properties\":[{\"name\":\"js_events\",\"kind\":\"Any\",\"default\":{\"type\":\"map\"}},{\"name\":\"notifications\",\"kind\":\"Any\",\"default\":[]},{\"name\":\"position\",\"kind\":\"Any\",\"default\":\"bottom-right\"},{\"name\":\"_clear\",\"kind\":\"Any\",\"default\":0},{\"name\":\"types\",\"kind\":\"Any\",\"default\":[{\"type\":\"map\",\"entries\":[[\"type\",\"warning\"],[\"background\",\"#ffc107\"],[\"icon\",{\"type\":\"map\",\"entries\":[[\"className\",\"fas fa-exclamation-triangle\"],[\"tagName\",\"i\"],[\"color\",\"white\"]]}]]},{\"type\":\"map\",\"entries\":[[\"type\",\"info\"],[\"background\",\"#007bff\"],[\"icon\",{\"type\":\"map\",\"entries\":[[\"className\",\"fas fa-info-circle\"],[\"tagName\",\"i\"],[\"color\",\"white\"]]}]]}]}]},{\"type\":\"model\",\"name\":\"Notification\",\"properties\":[{\"name\":\"background\",\"kind\":\"Any\",\"default\":null},{\"name\":\"duration\",\"kind\":\"Any\",\"default\":3000},{\"name\":\"icon\",\"kind\":\"Any\",\"default\":null},{\"name\":\"message\",\"kind\":\"Any\",\"default\":\"\"},{\"name\":\"notification_type\",\"kind\":\"Any\",\"default\":null},{\"name\":\"_destroyed\",\"kind\":\"Any\",\"default\":false}]},{\"type\":\"model\",\"name\":\"TemplateActions1\",\"properties\":[{\"name\":\"open_modal\",\"kind\":\"Any\",\"default\":0},{\"name\":\"close_modal\",\"kind\":\"Any\",\"default\":0}]},{\"type\":\"model\",\"name\":\"BootstrapTemplateActions1\",\"properties\":[{\"name\":\"open_modal\",\"kind\":\"Any\",\"default\":0},{\"name\":\"close_modal\",\"kind\":\"Any\",\"default\":0}]},{\"type\":\"model\",\"name\":\"TemplateEditor1\",\"properties\":[{\"name\":\"layout\",\"kind\":\"Any\",\"default\":[]}]},{\"type\":\"model\",\"name\":\"MaterialTemplateActions1\",\"properties\":[{\"name\":\"open_modal\",\"kind\":\"Any\",\"default\":0},{\"name\":\"close_modal\",\"kind\":\"Any\",\"default\":0}]},{\"type\":\"model\",\"name\":\"ReactiveESM1\",\"properties\":[{\"name\":\"esm_constants\",\"kind\":\"Any\",\"default\":{\"type\":\"map\"}}]},{\"type\":\"model\",\"name\":\"JSComponent1\",\"properties\":[{\"name\":\"esm_constants\",\"kind\":\"Any\",\"default\":{\"type\":\"map\"}}]},{\"type\":\"model\",\"name\":\"ReactComponent1\",\"properties\":[{\"name\":\"esm_constants\",\"kind\":\"Any\",\"default\":{\"type\":\"map\"}}]},{\"type\":\"model\",\"name\":\"AnyWidgetComponent1\",\"properties\":[{\"name\":\"esm_constants\",\"kind\":\"Any\",\"default\":{\"type\":\"map\"}}]},{\"type\":\"model\",\"name\":\"request_value1\",\"properties\":[{\"name\":\"fill\",\"kind\":\"Any\",\"default\":\"none\"},{\"name\":\"_synced\",\"kind\":\"Any\",\"default\":null},{\"name\":\"_request_sync\",\"kind\":\"Any\",\"default\":0}]}]}};\n",
       "  var render_items = [{\"docid\":\"c88b1a0c-a9ef-4d99-9ecd-f637805a3b1e\",\"roots\":{\"e105d691-750f-40e0-9a98-affd5cb5ecab\":\"bd267ea5-3876-4b5f-95e4-ccfb5f904fab\"},\"root_ids\":[\"e105d691-750f-40e0-9a98-affd5cb5ecab\"]}];\n",
       "  var docs = Object.values(docs_json)\n",
       "  if (!docs) {\n",
       "    return\n",
       "  }\n",
       "  const py_version = docs[0].version.replace('rc', '-rc.').replace('.dev', '-dev.')\n",
       "  async function embed_document(root) {\n",
       "    var Bokeh = get_bokeh(root)\n",
       "    await Bokeh.embed.embed_items_notebook(docs_json, render_items);\n",
       "    for (const render_item of render_items) {\n",
       "      for (const root_id of render_item.root_ids) {\n",
       "\tconst id_el = document.getElementById(root_id)\n",
       "\tif (id_el.children.length && id_el.children[0].hasAttribute('data-root-id')) {\n",
       "\t  const root_el = id_el.children[0]\n",
       "\t  root_el.id = root_el.id + '-rendered'\n",
       "\t  for (const child of root_el.children) {\n",
       "            // Ensure JupyterLab does not capture keyboard shortcuts\n",
       "            // see: https://jupyterlab.readthedocs.io/en/4.1.x/extension/notebook.html#keyboard-interaction-model\n",
       "\t    child.setAttribute('data-lm-suppress-shortcuts', 'true')\n",
       "\t  }\n",
       "\t}\n",
       "      }\n",
       "    }\n",
       "  }\n",
       "  function get_bokeh(root) {\n",
       "    if (root.Bokeh === undefined) {\n",
       "      return null\n",
       "    } else if (root.Bokeh.version !== py_version) {\n",
       "      if (root.Bokeh.versions === undefined || !root.Bokeh.versions.has(py_version)) {\n",
       "\treturn null\n",
       "      }\n",
       "      return root.Bokeh.versions.get(py_version);\n",
       "    } else if (root.Bokeh.version === py_version) {\n",
       "      return root.Bokeh\n",
       "    }\n",
       "    return null\n",
       "  }\n",
       "  function is_loaded(root) {\n",
       "    var Bokeh = get_bokeh(root)\n",
       "    return (Bokeh != null && Bokeh.Panel !== undefined)\n",
       "  }\n",
       "  if (is_loaded(root)) {\n",
       "    embed_document(root);\n",
       "  } else {\n",
       "    var attempts = 0;\n",
       "    var timer = setInterval(function(root) {\n",
       "      if (is_loaded(root)) {\n",
       "        clearInterval(timer);\n",
       "        embed_document(root);\n",
       "      } else if (document.readyState == \"complete\") {\n",
       "        attempts++;\n",
       "        if (attempts > 200) {\n",
       "          clearInterval(timer);\n",
       "\t  var Bokeh = get_bokeh(root)\n",
       "\t  if (Bokeh == null || Bokeh.Panel == null) {\n",
       "            console.warn(\"Panel: ERROR: Unable to run Panel code because Bokeh or Panel library is missing\");\n",
       "\t  } else {\n",
       "\t    console.warn(\"Panel: WARNING: Attempting to render but not all required libraries could be resolved.\")\n",
       "\t    embed_document(root)\n",
       "\t  }\n",
       "        }\n",
       "      }\n",
       "    }, 25, root)\n",
       "  }\n",
       "})(window);</script>"
      ]
     },
     "metadata": {
      "application/vnd.holoviews_exec.v0+json": {
       "id": "e105d691-750f-40e0-9a98-affd5cb5ecab"
      }
     },
     "output_type": "display_data"
    }
   ],
   "source": [
    "# Dependencies\n",
    "import pandas as pd\n",
    "import numpy as np\n",
    "import matplotlib.pyplot as plt\n",
    "from pathlib import Path\n",
    "import seaborn as sns\n",
    "import os \n",
    "import json\n",
    "import requests\n",
    "import hvplot.pandas\n",
    "import plotly.express as px\n",
    "\n",
    "# Suppress warnings\n",
    "import warnings\n",
    "warnings.filterwarnings('ignore')"
   ]
  },
  {
   "cell_type": "markdown",
   "metadata": {},
   "source": [
    "## Part 1: Obtaining Data\n",
    "\n",
    "Files were cleaned, and identified how each was organized in separate notebooks and saved as 'Cleaned CSV' files. DataFrames were then previewed to ensure proper import. "
   ]
  },
  {
   "cell_type": "code",
   "execution_count": 92,
   "metadata": {},
   "outputs": [],
   "source": [
    "# Read cleaned and reviewed CSV files\n",
    "amazon_data = Path(\"../Output_csv/amazon_cleaned.csv\")\n",
    "apple_data = Path(\"../Output_csv/apple_cleaned.csv\")\n",
    "hulu_data = Path(\"../Output_csv/hulu_cleaned.csv\")\n",
    "hbo_data = Path(\"../Output_csv/hbo_cleaned.csv\")\n",
    "netflix_data = Path(\"../Output_csv/netflix_cleaned.csv\")\n",
    "\n",
    "# Load the data and read into DataFrames\n",
    "amazon_data_df = pd.read_csv(amazon_data)\n",
    "apple_data_df = pd.read_csv(apple_data)\n",
    "hulu_data_df = pd.read_csv(hulu_data)\n",
    "hbo_data_df = pd.read_csv(hbo_data)\n",
    "netflix_data_df = pd.read_csv(netflix_data)\n"
   ]
  },
  {
   "cell_type": "code",
   "execution_count": 93,
   "metadata": {},
   "outputs": [
    {
     "data": {
      "text/html": [
       "<div>\n",
       "<style scoped>\n",
       "    .dataframe tbody tr th:only-of-type {\n",
       "        vertical-align: middle;\n",
       "    }\n",
       "\n",
       "    .dataframe tbody tr th {\n",
       "        vertical-align: top;\n",
       "    }\n",
       "\n",
       "    .dataframe thead th {\n",
       "        text-align: right;\n",
       "    }\n",
       "</style>\n",
       "<table border=\"1\" class=\"dataframe\">\n",
       "  <thead>\n",
       "    <tr style=\"text-align: right;\">\n",
       "      <th></th>\n",
       "      <th>Title</th>\n",
       "      <th>Type</th>\n",
       "      <th>Genres</th>\n",
       "      <th>Release Year</th>\n",
       "      <th>IMDB Average Rating</th>\n",
       "      <th>Available Countries</th>\n",
       "    </tr>\n",
       "  </thead>\n",
       "  <tbody>\n",
       "    <tr>\n",
       "      <th>0</th>\n",
       "      <td>Blondie</td>\n",
       "      <td>movie</td>\n",
       "      <td>Comedy, Family</td>\n",
       "      <td>1938</td>\n",
       "      <td>6.9</td>\n",
       "      <td>ZA</td>\n",
       "    </tr>\n",
       "    <tr>\n",
       "      <th>1</th>\n",
       "      <td>Four Rooms</td>\n",
       "      <td>movie</td>\n",
       "      <td>Comedy</td>\n",
       "      <td>1995</td>\n",
       "      <td>6.7</td>\n",
       "      <td>AT, DE</td>\n",
       "    </tr>\n",
       "    <tr>\n",
       "      <th>2</th>\n",
       "      <td>Judgment Night</td>\n",
       "      <td>movie</td>\n",
       "      <td>Action, Crime, Drama</td>\n",
       "      <td>1993</td>\n",
       "      <td>6.6</td>\n",
       "      <td>AR, BO, BR, CL, CO, CR, EC, GT, HN, MX, PA, PE...</td>\n",
       "    </tr>\n",
       "    <tr>\n",
       "      <th>3</th>\n",
       "      <td>Forrest Gump</td>\n",
       "      <td>movie</td>\n",
       "      <td>Drama, Romance</td>\n",
       "      <td>1994</td>\n",
       "      <td>8.8</td>\n",
       "      <td>AD, CU, FR, GB, GF, GG, GI, IE, IN, JP, MC, PF...</td>\n",
       "    </tr>\n",
       "    <tr>\n",
       "      <th>4</th>\n",
       "      <td>Citizen Kane</td>\n",
       "      <td>movie</td>\n",
       "      <td>Drama, Mystery</td>\n",
       "      <td>1941</td>\n",
       "      <td>8.3</td>\n",
       "      <td>AD, CA, ES, IN, JP</td>\n",
       "    </tr>\n",
       "  </tbody>\n",
       "</table>\n",
       "</div>"
      ],
      "text/plain": [
       "            Title   Type                Genres  Release Year  \\\n",
       "0         Blondie  movie        Comedy, Family          1938   \n",
       "1      Four Rooms  movie                Comedy          1995   \n",
       "2  Judgment Night  movie  Action, Crime, Drama          1993   \n",
       "3    Forrest Gump  movie        Drama, Romance          1994   \n",
       "4    Citizen Kane  movie        Drama, Mystery          1941   \n",
       "\n",
       "   IMDB Average Rating                                Available Countries  \n",
       "0                  6.9                                                 ZA  \n",
       "1                  6.7                                             AT, DE  \n",
       "2                  6.6  AR, BO, BR, CL, CO, CR, EC, GT, HN, MX, PA, PE...  \n",
       "3                  8.8  AD, CU, FR, GB, GF, GG, GI, IE, IN, JP, MC, PF...  \n",
       "4                  8.3                                 AD, CA, ES, IN, JP  "
      ]
     },
     "execution_count": 93,
     "metadata": {},
     "output_type": "execute_result"
    }
   ],
   "source": [
    "# Show the first 5 rows of each the DataFrame for Amazon Prime Data\n",
    "amazon_data_df.head()"
   ]
  },
  {
   "cell_type": "code",
   "execution_count": 94,
   "metadata": {},
   "outputs": [
    {
     "data": {
      "text/html": [
       "<div>\n",
       "<style scoped>\n",
       "    .dataframe tbody tr th:only-of-type {\n",
       "        vertical-align: middle;\n",
       "    }\n",
       "\n",
       "    .dataframe tbody tr th {\n",
       "        vertical-align: top;\n",
       "    }\n",
       "\n",
       "    .dataframe thead th {\n",
       "        text-align: right;\n",
       "    }\n",
       "</style>\n",
       "<table border=\"1\" class=\"dataframe\">\n",
       "  <thead>\n",
       "    <tr style=\"text-align: right;\">\n",
       "      <th></th>\n",
       "      <th>Title</th>\n",
       "      <th>Type</th>\n",
       "      <th>Genres</th>\n",
       "      <th>Release Year</th>\n",
       "      <th>IMDB Average Rating</th>\n",
       "      <th>Available Countries</th>\n",
       "    </tr>\n",
       "  </thead>\n",
       "  <tbody>\n",
       "    <tr>\n",
       "      <th>0</th>\n",
       "      <td>Four Rooms</td>\n",
       "      <td>movie</td>\n",
       "      <td>Comedy</td>\n",
       "      <td>1995</td>\n",
       "      <td>6.7</td>\n",
       "      <td>DE</td>\n",
       "    </tr>\n",
       "    <tr>\n",
       "      <th>1</th>\n",
       "      <td>Forrest Gump</td>\n",
       "      <td>movie</td>\n",
       "      <td>Drama, Romance</td>\n",
       "      <td>1994</td>\n",
       "      <td>8.8</td>\n",
       "      <td>AU, CA, US</td>\n",
       "    </tr>\n",
       "    <tr>\n",
       "      <th>2</th>\n",
       "      <td>American Beauty</td>\n",
       "      <td>movie</td>\n",
       "      <td>Drama</td>\n",
       "      <td>1999</td>\n",
       "      <td>8.3</td>\n",
       "      <td>AT, CH, DE, FR, GB, IE, IT</td>\n",
       "    </tr>\n",
       "    <tr>\n",
       "      <th>3</th>\n",
       "      <td>Citizen Kane</td>\n",
       "      <td>movie</td>\n",
       "      <td>Drama, Mystery</td>\n",
       "      <td>1941</td>\n",
       "      <td>8.3</td>\n",
       "      <td>DE, GB</td>\n",
       "    </tr>\n",
       "    <tr>\n",
       "      <th>4</th>\n",
       "      <td>Metropolis</td>\n",
       "      <td>movie</td>\n",
       "      <td>Drama, Sci-Fi</td>\n",
       "      <td>1927</td>\n",
       "      <td>8.3</td>\n",
       "      <td>GB</td>\n",
       "    </tr>\n",
       "  </tbody>\n",
       "</table>\n",
       "</div>"
      ],
      "text/plain": [
       "             Title   Type          Genres  Release Year  IMDB Average Rating  \\\n",
       "0       Four Rooms  movie          Comedy          1995                  6.7   \n",
       "1     Forrest Gump  movie  Drama, Romance          1994                  8.8   \n",
       "2  American Beauty  movie           Drama          1999                  8.3   \n",
       "3     Citizen Kane  movie  Drama, Mystery          1941                  8.3   \n",
       "4       Metropolis  movie   Drama, Sci-Fi          1927                  8.3   \n",
       "\n",
       "          Available Countries  \n",
       "0                          DE  \n",
       "1                  AU, CA, US  \n",
       "2  AT, CH, DE, FR, GB, IE, IT  \n",
       "3                      DE, GB  \n",
       "4                          GB  "
      ]
     },
     "execution_count": 94,
     "metadata": {},
     "output_type": "execute_result"
    }
   ],
   "source": [
    "# Apple TV Data\n",
    "apple_data_df.head()"
   ]
  },
  {
   "cell_type": "code",
   "execution_count": 95,
   "metadata": {},
   "outputs": [
    {
     "data": {
      "text/html": [
       "<div>\n",
       "<style scoped>\n",
       "    .dataframe tbody tr th:only-of-type {\n",
       "        vertical-align: middle;\n",
       "    }\n",
       "\n",
       "    .dataframe tbody tr th {\n",
       "        vertical-align: top;\n",
       "    }\n",
       "\n",
       "    .dataframe thead th {\n",
       "        text-align: right;\n",
       "    }\n",
       "</style>\n",
       "<table border=\"1\" class=\"dataframe\">\n",
       "  <thead>\n",
       "    <tr style=\"text-align: right;\">\n",
       "      <th></th>\n",
       "      <th>Title</th>\n",
       "      <th>Type</th>\n",
       "      <th>Genres</th>\n",
       "      <th>Release Year</th>\n",
       "      <th>IMDB Average Rating</th>\n",
       "      <th>Available Countries</th>\n",
       "    </tr>\n",
       "  </thead>\n",
       "  <tbody>\n",
       "    <tr>\n",
       "      <th>0</th>\n",
       "      <td>Ariel</td>\n",
       "      <td>movie</td>\n",
       "      <td>Comedy, Crime, Romance</td>\n",
       "      <td>1988</td>\n",
       "      <td>7.4</td>\n",
       "      <td>JP</td>\n",
       "    </tr>\n",
       "    <tr>\n",
       "      <th>1</th>\n",
       "      <td>Shadows in Paradise</td>\n",
       "      <td>movie</td>\n",
       "      <td>Comedy, Drama, Music</td>\n",
       "      <td>1986</td>\n",
       "      <td>7.5</td>\n",
       "      <td>JP</td>\n",
       "    </tr>\n",
       "    <tr>\n",
       "      <th>2</th>\n",
       "      <td>Forrest Gump</td>\n",
       "      <td>movie</td>\n",
       "      <td>Drama, Romance</td>\n",
       "      <td>1994</td>\n",
       "      <td>8.8</td>\n",
       "      <td>JP</td>\n",
       "    </tr>\n",
       "    <tr>\n",
       "      <th>3</th>\n",
       "      <td>The Fifth Element</td>\n",
       "      <td>movie</td>\n",
       "      <td>Action, Adventure, Sci-Fi</td>\n",
       "      <td>1997</td>\n",
       "      <td>7.6</td>\n",
       "      <td>JP</td>\n",
       "    </tr>\n",
       "    <tr>\n",
       "      <th>4</th>\n",
       "      <td>My Life Without Me</td>\n",
       "      <td>movie</td>\n",
       "      <td>Drama, Romance</td>\n",
       "      <td>2003</td>\n",
       "      <td>7.4</td>\n",
       "      <td>JP</td>\n",
       "    </tr>\n",
       "  </tbody>\n",
       "</table>\n",
       "</div>"
      ],
      "text/plain": [
       "                 Title   Type                     Genres  Release Year  \\\n",
       "0                Ariel  movie     Comedy, Crime, Romance          1988   \n",
       "1  Shadows in Paradise  movie       Comedy, Drama, Music          1986   \n",
       "2         Forrest Gump  movie             Drama, Romance          1994   \n",
       "3    The Fifth Element  movie  Action, Adventure, Sci-Fi          1997   \n",
       "4   My Life Without Me  movie             Drama, Romance          2003   \n",
       "\n",
       "   IMDB Average Rating Available Countries  \n",
       "0                  7.4                  JP  \n",
       "1                  7.5                  JP  \n",
       "2                  8.8                  JP  \n",
       "3                  7.6                  JP  \n",
       "4                  7.4                  JP  "
      ]
     },
     "execution_count": 95,
     "metadata": {},
     "output_type": "execute_result"
    }
   ],
   "source": [
    "# Hulu Data\n",
    "hulu_data_df.head()"
   ]
  },
  {
   "cell_type": "code",
   "execution_count": 96,
   "metadata": {},
   "outputs": [
    {
     "data": {
      "text/html": [
       "<div>\n",
       "<style scoped>\n",
       "    .dataframe tbody tr th:only-of-type {\n",
       "        vertical-align: middle;\n",
       "    }\n",
       "\n",
       "    .dataframe tbody tr th {\n",
       "        vertical-align: top;\n",
       "    }\n",
       "\n",
       "    .dataframe thead th {\n",
       "        text-align: right;\n",
       "    }\n",
       "</style>\n",
       "<table border=\"1\" class=\"dataframe\">\n",
       "  <thead>\n",
       "    <tr style=\"text-align: right;\">\n",
       "      <th></th>\n",
       "      <th>Title</th>\n",
       "      <th>Type</th>\n",
       "      <th>Genres</th>\n",
       "      <th>Release Year</th>\n",
       "      <th>IMDB Average Rating</th>\n",
       "      <th>Available Countries</th>\n",
       "    </tr>\n",
       "  </thead>\n",
       "  <tbody>\n",
       "    <tr>\n",
       "      <th>0</th>\n",
       "      <td>The Fifth Element</td>\n",
       "      <td>movie</td>\n",
       "      <td>Action, Adventure, Sci-Fi</td>\n",
       "      <td>1997.0</td>\n",
       "      <td>7.6</td>\n",
       "      <td>DK, FI, NO, SE</td>\n",
       "    </tr>\n",
       "    <tr>\n",
       "      <th>1</th>\n",
       "      <td>Jarhead</td>\n",
       "      <td>movie</td>\n",
       "      <td>Biography, Drama, War</td>\n",
       "      <td>2005.0</td>\n",
       "      <td>7.0</td>\n",
       "      <td>HK, ID, MY, PH, SG, TH, TW</td>\n",
       "    </tr>\n",
       "    <tr>\n",
       "      <th>2</th>\n",
       "      <td>Unforgiven</td>\n",
       "      <td>movie</td>\n",
       "      <td>Drama, Western</td>\n",
       "      <td>1992.0</td>\n",
       "      <td>8.2</td>\n",
       "      <td>AG, AR, BB, BE, BO, BR, BS, BZ, CL, CO, CR, DO...</td>\n",
       "    </tr>\n",
       "    <tr>\n",
       "      <th>3</th>\n",
       "      <td>Eternal Sunshine of the Spotless Mind</td>\n",
       "      <td>movie</td>\n",
       "      <td>Drama, Romance, Sci-Fi</td>\n",
       "      <td>2004.0</td>\n",
       "      <td>8.3</td>\n",
       "      <td>AG, AR, BB, BO, BS, BZ, CL, CO, CR, DO, EC, GT...</td>\n",
       "    </tr>\n",
       "    <tr>\n",
       "      <th>4</th>\n",
       "      <td>A History of Violence</td>\n",
       "      <td>movie</td>\n",
       "      <td>Action, Crime, Drama</td>\n",
       "      <td>2005.0</td>\n",
       "      <td>7.4</td>\n",
       "      <td>AG, AR, BB, BO, BR, BS, BZ, CL, CO, CR, DO, EC...</td>\n",
       "    </tr>\n",
       "  </tbody>\n",
       "</table>\n",
       "</div>"
      ],
      "text/plain": [
       "                                   Title   Type                     Genres  \\\n",
       "0                      The Fifth Element  movie  Action, Adventure, Sci-Fi   \n",
       "1                                Jarhead  movie      Biography, Drama, War   \n",
       "2                             Unforgiven  movie             Drama, Western   \n",
       "3  Eternal Sunshine of the Spotless Mind  movie     Drama, Romance, Sci-Fi   \n",
       "4                  A History of Violence  movie       Action, Crime, Drama   \n",
       "\n",
       "   Release Year  IMDB Average Rating  \\\n",
       "0        1997.0                  7.6   \n",
       "1        2005.0                  7.0   \n",
       "2        1992.0                  8.2   \n",
       "3        2004.0                  8.3   \n",
       "4        2005.0                  7.4   \n",
       "\n",
       "                                 Available Countries  \n",
       "0                                     DK, FI, NO, SE  \n",
       "1                         HK, ID, MY, PH, SG, TH, TW  \n",
       "2  AG, AR, BB, BE, BO, BR, BS, BZ, CL, CO, CR, DO...  \n",
       "3  AG, AR, BB, BO, BS, BZ, CL, CO, CR, DO, EC, GT...  \n",
       "4  AG, AR, BB, BO, BR, BS, BZ, CL, CO, CR, DO, EC...  "
      ]
     },
     "execution_count": 96,
     "metadata": {},
     "output_type": "execute_result"
    }
   ],
   "source": [
    "# HBO Max Data\n",
    "hbo_data_df.head()"
   ]
  },
  {
   "cell_type": "code",
   "execution_count": 97,
   "metadata": {},
   "outputs": [
    {
     "data": {
      "text/html": [
       "<div>\n",
       "<style scoped>\n",
       "    .dataframe tbody tr th:only-of-type {\n",
       "        vertical-align: middle;\n",
       "    }\n",
       "\n",
       "    .dataframe tbody tr th {\n",
       "        vertical-align: top;\n",
       "    }\n",
       "\n",
       "    .dataframe thead th {\n",
       "        text-align: right;\n",
       "    }\n",
       "</style>\n",
       "<table border=\"1\" class=\"dataframe\">\n",
       "  <thead>\n",
       "    <tr style=\"text-align: right;\">\n",
       "      <th></th>\n",
       "      <th>Title</th>\n",
       "      <th>Type</th>\n",
       "      <th>Genres</th>\n",
       "      <th>Release Year</th>\n",
       "      <th>IMDB Average Rating</th>\n",
       "      <th>Available Countries</th>\n",
       "    </tr>\n",
       "  </thead>\n",
       "  <tbody>\n",
       "    <tr>\n",
       "      <th>0</th>\n",
       "      <td>The Fifth Element</td>\n",
       "      <td>movie</td>\n",
       "      <td>Action, Adventure, Sci-Fi</td>\n",
       "      <td>1997</td>\n",
       "      <td>7.6</td>\n",
       "      <td>AT, CH, DE</td>\n",
       "    </tr>\n",
       "    <tr>\n",
       "      <th>1</th>\n",
       "      <td>Kill Bill: Vol. 1</td>\n",
       "      <td>movie</td>\n",
       "      <td>Action, Crime, Thriller</td>\n",
       "      <td>2003</td>\n",
       "      <td>8.2</td>\n",
       "      <td>AE, AL, AO, AT, AU, AZ, BG, BH, BY, CI, CM, CZ...</td>\n",
       "    </tr>\n",
       "    <tr>\n",
       "      <th>2</th>\n",
       "      <td>Jarhead</td>\n",
       "      <td>movie</td>\n",
       "      <td>Biography, Drama, War</td>\n",
       "      <td>2005</td>\n",
       "      <td>7.0</td>\n",
       "      <td>AD, AE, AG, AO, BH, BM, BS, BZ, CI, CM, CO, CR...</td>\n",
       "    </tr>\n",
       "    <tr>\n",
       "      <th>3</th>\n",
       "      <td>Unforgiven</td>\n",
       "      <td>movie</td>\n",
       "      <td>Drama, Western</td>\n",
       "      <td>1992</td>\n",
       "      <td>8.2</td>\n",
       "      <td>AU, BA, BG, CZ, HR, HU, MD, ME, MK, NZ, PL, RO...</td>\n",
       "    </tr>\n",
       "    <tr>\n",
       "      <th>4</th>\n",
       "      <td>Eternal Sunshine of the Spotless Mind</td>\n",
       "      <td>movie</td>\n",
       "      <td>Drama, Romance, Sci-Fi</td>\n",
       "      <td>2004</td>\n",
       "      <td>8.3</td>\n",
       "      <td>AD, AE, AG, AL, AO, AR, AU, AZ, BA, BB, BE, BG...</td>\n",
       "    </tr>\n",
       "  </tbody>\n",
       "</table>\n",
       "</div>"
      ],
      "text/plain": [
       "                                   Title   Type                     Genres  \\\n",
       "0                      The Fifth Element  movie  Action, Adventure, Sci-Fi   \n",
       "1                      Kill Bill: Vol. 1  movie    Action, Crime, Thriller   \n",
       "2                                Jarhead  movie      Biography, Drama, War   \n",
       "3                             Unforgiven  movie             Drama, Western   \n",
       "4  Eternal Sunshine of the Spotless Mind  movie     Drama, Romance, Sci-Fi   \n",
       "\n",
       "   Release Year  IMDB Average Rating  \\\n",
       "0          1997                  7.6   \n",
       "1          2003                  8.2   \n",
       "2          2005                  7.0   \n",
       "3          1992                  8.2   \n",
       "4          2004                  8.3   \n",
       "\n",
       "                                 Available Countries  \n",
       "0                                         AT, CH, DE  \n",
       "1  AE, AL, AO, AT, AU, AZ, BG, BH, BY, CI, CM, CZ...  \n",
       "2  AD, AE, AG, AO, BH, BM, BS, BZ, CI, CM, CO, CR...  \n",
       "3  AU, BA, BG, CZ, HR, HU, MD, ME, MK, NZ, PL, RO...  \n",
       "4  AD, AE, AG, AL, AO, AR, AU, AZ, BA, BB, BE, BG...  "
      ]
     },
     "execution_count": 97,
     "metadata": {},
     "output_type": "execute_result"
    }
   ],
   "source": [
    "# Netflix Data\n",
    "netflix_data_df.head()"
   ]
  },
  {
   "cell_type": "markdown",
   "metadata": {},
   "source": [
    "## Part 2: Streaming Service Analysis\n",
    "\n",
    "### Data Visualization \n",
    "\n",
    "After datasets were loaded and previewed, analysis was performed. First, columns were created to identify and categorize each 'streaming service' name within the DataFrames. All DataFrames were combined into a single DataFrame. Next, the IMDB rating was established and determined for each streaming service. It was determined which streaming service had the highest average IMDB rating. Various graphics using Matplotlib were created to visualize the data provided for the highest-rated streaming service."
   ]
  },
  {
   "cell_type": "code",
   "execution_count": 98,
   "metadata": {},
   "outputs": [
    {
     "data": {
      "text/html": [
       "<div>\n",
       "<style scoped>\n",
       "    .dataframe tbody tr th:only-of-type {\n",
       "        vertical-align: middle;\n",
       "    }\n",
       "\n",
       "    .dataframe tbody tr th {\n",
       "        vertical-align: top;\n",
       "    }\n",
       "\n",
       "    .dataframe thead th {\n",
       "        text-align: right;\n",
       "    }\n",
       "</style>\n",
       "<table border=\"1\" class=\"dataframe\">\n",
       "  <thead>\n",
       "    <tr style=\"text-align: right;\">\n",
       "      <th></th>\n",
       "      <th>Title</th>\n",
       "      <th>Type</th>\n",
       "      <th>Genres</th>\n",
       "      <th>Release Year</th>\n",
       "      <th>IMDB Average Rating</th>\n",
       "      <th>Available Countries</th>\n",
       "      <th>Streaming Service</th>\n",
       "    </tr>\n",
       "  </thead>\n",
       "  <tbody>\n",
       "    <tr>\n",
       "      <th>0</th>\n",
       "      <td>Blondie</td>\n",
       "      <td>movie</td>\n",
       "      <td>Comedy, Family</td>\n",
       "      <td>1938.0</td>\n",
       "      <td>6.9</td>\n",
       "      <td>ZA</td>\n",
       "      <td>Amazon</td>\n",
       "    </tr>\n",
       "    <tr>\n",
       "      <th>1</th>\n",
       "      <td>Four Rooms</td>\n",
       "      <td>movie</td>\n",
       "      <td>Comedy</td>\n",
       "      <td>1995.0</td>\n",
       "      <td>6.7</td>\n",
       "      <td>AT, DE</td>\n",
       "      <td>Amazon</td>\n",
       "    </tr>\n",
       "    <tr>\n",
       "      <th>2</th>\n",
       "      <td>Judgment Night</td>\n",
       "      <td>movie</td>\n",
       "      <td>Action, Crime, Drama</td>\n",
       "      <td>1993.0</td>\n",
       "      <td>6.6</td>\n",
       "      <td>AR, BO, BR, CL, CO, CR, EC, GT, HN, MX, PA, PE...</td>\n",
       "      <td>Amazon</td>\n",
       "    </tr>\n",
       "    <tr>\n",
       "      <th>3</th>\n",
       "      <td>Forrest Gump</td>\n",
       "      <td>movie</td>\n",
       "      <td>Drama, Romance</td>\n",
       "      <td>1994.0</td>\n",
       "      <td>8.8</td>\n",
       "      <td>AD, CU, FR, GB, GF, GG, GI, IE, IN, JP, MC, PF...</td>\n",
       "      <td>Amazon</td>\n",
       "    </tr>\n",
       "    <tr>\n",
       "      <th>4</th>\n",
       "      <td>Citizen Kane</td>\n",
       "      <td>movie</td>\n",
       "      <td>Drama, Mystery</td>\n",
       "      <td>1941.0</td>\n",
       "      <td>8.3</td>\n",
       "      <td>AD, CA, ES, IN, JP</td>\n",
       "      <td>Amazon</td>\n",
       "    </tr>\n",
       "  </tbody>\n",
       "</table>\n",
       "</div>"
      ],
      "text/plain": [
       "            Title   Type                Genres  Release Year  \\\n",
       "0         Blondie  movie        Comedy, Family        1938.0   \n",
       "1      Four Rooms  movie                Comedy        1995.0   \n",
       "2  Judgment Night  movie  Action, Crime, Drama        1993.0   \n",
       "3    Forrest Gump  movie        Drama, Romance        1994.0   \n",
       "4    Citizen Kane  movie        Drama, Mystery        1941.0   \n",
       "\n",
       "   IMDB Average Rating                                Available Countries  \\\n",
       "0                  6.9                                                 ZA   \n",
       "1                  6.7                                             AT, DE   \n",
       "2                  6.6  AR, BO, BR, CL, CO, CR, EC, GT, HN, MX, PA, PE...   \n",
       "3                  8.8  AD, CU, FR, GB, GF, GG, GI, IE, IN, JP, MC, PF...   \n",
       "4                  8.3                                 AD, CA, ES, IN, JP   \n",
       "\n",
       "  Streaming Service  \n",
       "0            Amazon  \n",
       "1            Amazon  \n",
       "2            Amazon  \n",
       "3            Amazon  \n",
       "4            Amazon  "
      ]
     },
     "execution_count": 98,
     "metadata": {},
     "output_type": "execute_result"
    }
   ],
   "source": [
    "# Add a new column to DataFrame identify the streaming service\n",
    "amazon_data_df[\"Streaming Service\"] = \"Amazon\"\n",
    "apple_data_df[\"Streaming Service\"] = \"Apple\"\n",
    "hulu_data_df[\"Streaming Service\"] = \"Hulu\"\n",
    "hbo_data_df[\"Streaming Service\"] = \"HBO\"\n",
    "netflix_data_df[\"Streaming Service\"] = \"Netflix\"\n",
    "\n",
    "# Combine into a single DataFrame\n",
    "all_data = pd.concat([amazon_data_df, apple_data_df, hulu_data_df, hbo_data_df, netflix_data_df], join='inner')\n",
    "all_data.head()"
   ]
  },
  {
   "cell_type": "markdown",
   "metadata": {},
   "source": [
    "#### Content Type by Streaming Service "
   ]
  },
  {
   "cell_type": "code",
   "execution_count": 99,
   "metadata": {},
   "outputs": [
    {
     "name": "stdout",
     "output_type": "stream",
     "text": [
      "Type               movie    tv\n",
      "Streaming Service             \n",
      "Amazon             53548  7158\n",
      "Apple              12421  3541\n",
      "HBO                 5826  3602\n",
      "Hulu                5401  3366\n",
      "Netflix            14683  4257\n"
     ]
    }
   ],
   "source": [
    "# Group by streaming service and content type, then count the occurrences\n",
    "content_counts = all_data.groupby(['Streaming Service', 'Type']).size().reset_index(name='count')\n",
    "\n",
    "# Pivot the data to get a clear view\n",
    "pivot_table = content_counts.pivot(index='Streaming Service', columns='Type', values='count').fillna(0)\n",
    "print(pivot_table)"
   ]
  },
  {
   "cell_type": "code",
   "execution_count": 133,
   "metadata": {},
   "outputs": [
    {
     "data": {
      "image/png": "[encoded data removed]",
      "text/plain": [
       "<Figure size 1000x700 with 1 Axes>"
      ]
     },
     "metadata": {},
     "output_type": "display_data"
    }
   ],
   "source": [
    "# Plot the data\n",
    "pivot_table.plot(kind='bar', stacked=True, figsize=(10, 7), color=['lightblue', 'blue'])\n",
    "plt.title('Content Type by Streaming Service')\n",
    "plt.ylabel('Number of Content')\n",
    "plt.xlabel('Streaming Service')\n",
    "plt.xticks(rotation=0)\n",
    "\n",
    "# Save the plot\n",
    "plt.savefig(\"../Images/Content_Type_by_Streaming.png\")\n",
    "plt.show()"
   ]
  },
  {
   "cell_type": "markdown",
   "metadata": {},
   "source": [
    "**Findings & Analysis: Content Type (Movies vs TV)**\n",
    "\n",
    "**Which streaming service has the most content?**\n",
    "\n",
    "* It can be seen here that Amazon Prime has the most content by type on their streaming platform. However, when reviewing all the data, there is a clear disproportion in movie libraries vs TV shows. \n",
    "\n",
    "**Why does Amazon Prime have the most content by type?**\n",
    "* It can be concluded and observed that Amazon Prime's catalog of both movies and TV shows is extensive. They offer both free movies and TV shows (original content and otherwise) through their streaming service 'Prime Video' when paid for in the 'Prime Subscription’, which varies in cost. However, you can still access other movies and TV shows by purchasing or renting them for a fee. Whereas other streaming services make you subscribe to a plan, and you receive \"free\" content through there.\n",
    "\n",
    "**Is this a positive or negative when looking at a streaming service such as Amazon Prime and Prime Video?**\n",
    "* Yes, and no. The reason for this is that you pay for a subscription service and receive original content through Prime Video, but if you want to access movies or other titles, you have to either rent or buy them. This can add up and become costly over time for the average consumer. However, the plus side to all of this is that all content is in one place. You can 'subscribe' to other streaming services through Prime Video (i.e., Paramount Plus, PBS, Masterpiece, Showtime, Discovery +, AMC, etc.), and you can even have access to HBO Max content. Altogether, these are separate streaming services that you would have to pay for and download an app to receive content. Whereas Amazon Prime Video makes it so all the content is within one streaming service. \n",
    "\n",
    "\n",
    "So, is this worth it? And how is this successful for the streaming service? Let's take a look further. "
   ]
  },
  {
   "cell_type": "markdown",
   "metadata": {},
   "source": [
    "#### IMDB Average Rating "
   ]
  },
  {
   "cell_type": "code",
   "execution_count": 101,
   "metadata": {},
   "outputs": [
    {
     "data": {
      "text/html": [
       "<div>\n",
       "<style scoped>\n",
       "    .dataframe tbody tr th:only-of-type {\n",
       "        vertical-align: middle;\n",
       "    }\n",
       "\n",
       "    .dataframe tbody tr th {\n",
       "        vertical-align: top;\n",
       "    }\n",
       "\n",
       "    .dataframe thead th {\n",
       "        text-align: right;\n",
       "    }\n",
       "</style>\n",
       "<table border=\"1\" class=\"dataframe\">\n",
       "  <thead>\n",
       "    <tr style=\"text-align: right;\">\n",
       "      <th></th>\n",
       "      <th>Streaming Service</th>\n",
       "      <th>IMDB Average Rating</th>\n",
       "    </tr>\n",
       "  </thead>\n",
       "  <tbody>\n",
       "    <tr>\n",
       "      <th>0</th>\n",
       "      <td>Amazon</td>\n",
       "      <td>5.953446</td>\n",
       "    </tr>\n",
       "    <tr>\n",
       "      <th>1</th>\n",
       "      <td>Apple</td>\n",
       "      <td>6.385585</td>\n",
       "    </tr>\n",
       "    <tr>\n",
       "      <th>2</th>\n",
       "      <td>HBO</td>\n",
       "      <td>6.688892</td>\n",
       "    </tr>\n",
       "    <tr>\n",
       "      <th>3</th>\n",
       "      <td>Hulu</td>\n",
       "      <td>6.566648</td>\n",
       "    </tr>\n",
       "    <tr>\n",
       "      <th>4</th>\n",
       "      <td>Netflix</td>\n",
       "      <td>6.398585</td>\n",
       "    </tr>\n",
       "  </tbody>\n",
       "</table>\n",
       "</div>"
      ],
      "text/plain": [
       "  Streaming Service  IMDB Average Rating\n",
       "0            Amazon             5.953446\n",
       "1             Apple             6.385585\n",
       "2               HBO             6.688892\n",
       "3              Hulu             6.566648\n",
       "4           Netflix             6.398585"
      ]
     },
     "execution_count": 101,
     "metadata": {},
     "output_type": "execute_result"
    }
   ],
   "source": [
    "# IMDB average rating for each streaming service \n",
    "imdb_rating = all_data.groupby(\"Streaming Service\")[\"IMDB Average Rating\"].mean().reset_index()\n",
    "imdb_rating"
   ]
  },
  {
   "cell_type": "code",
   "execution_count": 102,
   "metadata": {},
   "outputs": [
    {
     "name": "stdout",
     "output_type": "stream",
     "text": [
      "The highest rated streaming service is HBO with an average rating of 6.688891506655672\n"
     ]
    }
   ],
   "source": [
    "# Print which is the highest rated streaming service\n",
    "highest_rated = imdb_rating.loc[imdb_rating[\"IMDB Average Rating\"].idxmax()]\n",
    "print(f\"The highest rated streaming service is {highest_rated['Streaming Service']} with an average rating of {highest_rated['IMDB Average Rating']}\")"
   ]
  },
  {
   "cell_type": "markdown",
   "metadata": {},
   "source": [
    "#### Highest Average Rating "
   ]
  },
  {
   "cell_type": "code",
   "execution_count": 103,
   "metadata": {},
   "outputs": [
    {
     "data": {
      "image/png": "[encoded data removed]",
      "text/plain": [
       "<Figure size 500x500 with 1 Axes>"
      ]
     },
     "metadata": {},
     "output_type": "display_data"
    }
   ],
   "source": [
    "# Create a pie chart of all the streaming services to show which one has the highest average rating IMDB rating\n",
    "imdb_rating.plot.pie(y=\"IMDB Average Rating\", \n",
    "                     labels=imdb_rating[\"Streaming Service\"], \n",
    "                     autopct=\"%1.1f%%\", title=\"IMDB Average Rating by Streaming Service\", \n",
    "                     figsize=(5, 5), legend=False, shadow=True, explode=(0, 0, 0.1, 0, 0), \n",
    "                     startangle=140, colors=[\"lightblue\", \"violet\", \"lightgreen\", \"purple\", \"pink\"]) \n",
    "plt.ylabel('')\n",
    "\n",
    "# Save the pie chart\n",
    "plt.savefig(\"../Images/IMDB_Average_Rating_by_Streaming_Service.png\")"
   ]
  },
  {
   "cell_type": "markdown",
   "metadata": {},
   "source": [
    "**Findings & Analysis: IMDB Rating**\n",
    "\n",
    "**Which streaming service is most popular based on IMBD rating, and why?**\n",
    "* It is found that HBO Max has the highest rating overall, at 20.9%. There is a slight margin of difference between the other streaming services, with Hulu falling at 20.5% and Netflix and Apple at 20%. The lowest IMDB rating for a streaming service is Amazon Prime Video at 18.6%. \n",
    "\n",
    "* Earlier, we looked at the full cataloge for each streaming service, and it was found that HBO had the least amount of movies and TV shows. Through our research and overall analysis, we concluded that HBO Max most likely has the highest rating due to the 'substance' of the content. What does this mean? Well, HBO Max brings in many Blockbuster movies and highly rated and award-nominated TV shows. The number of content does not always mean the best, as seen here, with Amazon Prime Video ranking in last place. \n",
    "\n",
    "* Through the pie chart, we are able to visualize this more clearly and see the differences. "
   ]
  },
  {
   "cell_type": "markdown",
   "metadata": {},
   "source": [
    "## Part 3: HBO Max Data Analysis and Visualization \n",
    "\n",
    "After determining that HBO Max was the most popular streaming service in regards to the highest IMDB rating, we then took the data given and analyzed it further. Here, we looked at the number of movie and tv shows, the top 10 movies and TV shows, and the most popular genres to better understand why HBO Max out-performed the other streaming services. "
   ]
  },
  {
   "cell_type": "code",
   "execution_count": 104,
   "metadata": {},
   "outputs": [
    {
     "data": {
      "text/plain": [
       "count    8489.000000\n",
       "mean        6.688892\n",
       "std         1.040770\n",
       "min         1.600000\n",
       "25%         6.100000\n",
       "50%         6.700000\n",
       "75%         7.400000\n",
       "max         9.500000\n",
       "Name: IMDB Average Rating, dtype: float64"
      ]
     },
     "execution_count": 104,
     "metadata": {},
     "output_type": "execute_result"
    }
   ],
   "source": [
    "# Statistical Summary for IMDB rating for HBO Max\n",
    "hbo_data_df[\"IMDB Average Rating\"].describe()"
   ]
  },
  {
   "cell_type": "markdown",
   "metadata": {},
   "source": [
    "#### Number of Movies and TV Shows for HBO Max"
   ]
  },
  {
   "cell_type": "code",
   "execution_count": 105,
   "metadata": {},
   "outputs": [
    {
     "data": {
      "image/png": "[encoded data removed]",
      "text/plain": [
       "<Figure size 640x480 with 1 Axes>"
      ]
     },
     "metadata": {},
     "output_type": "display_data"
    }
   ],
   "source": [
    "# Create a bar chat to show the number of movies and TV shows for HBO\n",
    "hbo_data_df[\"Type\"].value_counts().plot(kind=\"bar\", \n",
    "                                        title=\"HBO Movies and TV Shows\", \n",
    "                                        color=[\"lightblue\", \"blue\"])\n",
    "\n",
    "# save the bar chart\n",
    "plt.savefig(\"../Images/HBO_Movies_and_TV_Shows.png\")"
   ]
  },
  {
   "cell_type": "markdown",
   "metadata": {},
   "source": [
    "#### Top 10 Genres for Movies "
   ]
  },
  {
   "cell_type": "code",
   "execution_count": 134,
   "metadata": {},
   "outputs": [
    {
     "data": {
      "image/png": "[encoded data removed]",
      "text/plain": [
       "<Figure size 1000x600 with 1 Axes>"
      ]
     },
     "metadata": {},
     "output_type": "display_data"
    }
   ],
   "source": [
    "# Filter the data to include only movies\n",
    "hbo_movies = hbo_data_df[hbo_data_df['Type'] == 'movie']\n",
    "\n",
    "# Split the by genres and explode the dataframe so each genre has its own row\n",
    "hbo_genres = hbo_data_df['Genres'].str.split(', ').explode('Genres')\n",
    "\n",
    "# Get the top 10 genres in movies for HBO\n",
    "top_movie_genres = hbo_genres.value_counts().nlargest(10)\n",
    "\n",
    "# Plot a bar chart for the top ten genres for movies for HBO\n",
    "plt.figure(figsize=(10, 6))\n",
    "sns.barplot(x=top_movie_genres.index, y=top_movie_genres.values, palette=\"viridis\")\n",
    "plt.title(\"Top 10 Movie Genres for HBO\")\n",
    "plt.xticks(rotation=90);\n",
    "\n",
    "# Save the bar chart\n",
    "plt.savefig(\"../Images/Top_10_Movie_Genres_HBO.png\")\n",
    "plt.show()\n"
   ]
  },
  {
   "cell_type": "markdown",
   "metadata": {},
   "source": [
    "#### Top 10 Genres for TV Shows"
   ]
  },
  {
   "cell_type": "code",
   "execution_count": 135,
   "metadata": {},
   "outputs": [
    {
     "data": {
      "image/png": "[encoded data removed]",
      "text/plain": [
       "<Figure size 1000x600 with 1 Axes>"
      ]
     },
     "metadata": {},
     "output_type": "display_data"
    }
   ],
   "source": [
    "# Filter the data to include only TV shows\n",
    "hbo_tv = hbo_data_df[hbo_data_df['Type'] == 'tv']\n",
    "\n",
    "# Split the genres and explode the dataframe so each genre has its own row\n",
    "hbo_tv_genres = hbo_tv['Genres'].str.split(', ').explode('Genres')\n",
    "\n",
    "# Get the top 10 genres in TV shows for HBO\n",
    "top_tv_genres = hbo_tv_genres.value_counts().nlargest(10)\n",
    "\n",
    "# Plot a bar chart for the top ten genres for TV shows for HBO\n",
    "plt.figure(figsize=(10, 6))\n",
    "sns.barplot(x=top_tv_genres.index, y=top_tv_genres.values, palette=\"viridis\")\n",
    "plt.title(\"Top 10 TV Show Genres for HBO\")\n",
    "plt.xticks(rotation=90)\n",
    "\n",
    "# Save the bar chart\n",
    "plt.savefig(\"../Images/Top_10_TV_Genres_HBO.png\")\n",
    "plt.show()"
   ]
  },
  {
   "cell_type": "markdown",
   "metadata": {},
   "source": [
    "#### Top 10 Movies & TV Shows on HBO MAX"
   ]
  },
  {
   "cell_type": "code",
   "execution_count": 108,
   "metadata": {},
   "outputs": [
    {
     "data": {
      "text/html": [
       "<div>\n",
       "<style scoped>\n",
       "    .dataframe tbody tr th:only-of-type {\n",
       "        vertical-align: middle;\n",
       "    }\n",
       "\n",
       "    .dataframe tbody tr th {\n",
       "        vertical-align: top;\n",
       "    }\n",
       "\n",
       "    .dataframe thead th {\n",
       "        text-align: right;\n",
       "    }\n",
       "</style>\n",
       "<table border=\"1\" class=\"dataframe\">\n",
       "  <thead>\n",
       "    <tr style=\"text-align: right;\">\n",
       "      <th></th>\n",
       "      <th>Title</th>\n",
       "      <th>Type</th>\n",
       "      <th>Genres</th>\n",
       "      <th>Release Year</th>\n",
       "      <th>IMDB Average Rating</th>\n",
       "      <th>Available Countries</th>\n",
       "      <th>Streaming Service</th>\n",
       "    </tr>\n",
       "  </thead>\n",
       "  <tbody>\n",
       "    <tr>\n",
       "      <th>70</th>\n",
       "      <td>The Shawshank Redemption</td>\n",
       "      <td>movie</td>\n",
       "      <td>Drama</td>\n",
       "      <td>1994.0</td>\n",
       "      <td>9.3</td>\n",
       "      <td>AD, AG, AR, BB, BE, BO, BR, BS, BZ, CL, CO, CR...</td>\n",
       "      <td>HBO</td>\n",
       "    </tr>\n",
       "    <tr>\n",
       "      <th>5273</th>\n",
       "      <td>Celebrity Habla</td>\n",
       "      <td>movie</td>\n",
       "      <td>Documentary</td>\n",
       "      <td>2009.0</td>\n",
       "      <td>9.3</td>\n",
       "      <td>US</td>\n",
       "      <td>HBO</td>\n",
       "    </tr>\n",
       "    <tr>\n",
       "      <th>59</th>\n",
       "      <td>The Godfather</td>\n",
       "      <td>movie</td>\n",
       "      <td>Crime, Drama</td>\n",
       "      <td>1972.0</td>\n",
       "      <td>9.2</td>\n",
       "      <td>AD, ES, PT</td>\n",
       "      <td>HBO</td>\n",
       "    </tr>\n",
       "    <tr>\n",
       "      <th>27</th>\n",
       "      <td>The Lord of the Rings: The Return of the King</td>\n",
       "      <td>movie</td>\n",
       "      <td>Adventure, Drama, Fantasy</td>\n",
       "      <td>2003.0</td>\n",
       "      <td>9.0</td>\n",
       "      <td>AD, AG, AR, BA, BB, BG, BO, BR, BS, BZ, CL, CO...</td>\n",
       "      <td>HBO</td>\n",
       "    </tr>\n",
       "    <tr>\n",
       "      <th>35</th>\n",
       "      <td>The Dark Knight</td>\n",
       "      <td>movie</td>\n",
       "      <td>Action, Crime, Drama</td>\n",
       "      <td>2008.0</td>\n",
       "      <td>9.0</td>\n",
       "      <td>AD, AG, AR, BA, BB, BE, BG, BO, BR, BS, BZ, CL...</td>\n",
       "      <td>HBO</td>\n",
       "    </tr>\n",
       "  </tbody>\n",
       "</table>\n",
       "</div>"
      ],
      "text/plain": [
       "                                              Title   Type  \\\n",
       "70                         The Shawshank Redemption  movie   \n",
       "5273                                Celebrity Habla  movie   \n",
       "59                                    The Godfather  movie   \n",
       "27    The Lord of the Rings: The Return of the King  movie   \n",
       "35                                  The Dark Knight  movie   \n",
       "\n",
       "                         Genres  Release Year  IMDB Average Rating  \\\n",
       "70                        Drama        1994.0                  9.3   \n",
       "5273                Documentary        2009.0                  9.3   \n",
       "59                 Crime, Drama        1972.0                  9.2   \n",
       "27    Adventure, Drama, Fantasy        2003.0                  9.0   \n",
       "35         Action, Crime, Drama        2008.0                  9.0   \n",
       "\n",
       "                                    Available Countries Streaming Service  \n",
       "70    AD, AG, AR, BB, BE, BO, BR, BS, BZ, CL, CO, CR...               HBO  \n",
       "5273                                                 US               HBO  \n",
       "59                                           AD, ES, PT               HBO  \n",
       "27    AD, AG, AR, BA, BB, BG, BO, BR, BS, BZ, CL, CO...               HBO  \n",
       "35    AD, AG, AR, BA, BB, BE, BG, BO, BR, BS, BZ, CL...               HBO  "
      ]
     },
     "execution_count": 108,
     "metadata": {},
     "output_type": "execute_result"
    }
   ],
   "source": [
    "# Create a DataFrame for the top 10 movies for HBO to visualize which movies are the most popular\n",
    "top_10_movies = hbo_movies.nlargest(10, 'IMDB Average Rating')\n",
    "top_10_movies.head()"
   ]
  },
  {
   "cell_type": "code",
   "execution_count": 109,
   "metadata": {},
   "outputs": [
    {
     "data": {
      "text/html": [
       "<div>\n",
       "<style scoped>\n",
       "    .dataframe tbody tr th:only-of-type {\n",
       "        vertical-align: middle;\n",
       "    }\n",
       "\n",
       "    .dataframe tbody tr th {\n",
       "        vertical-align: top;\n",
       "    }\n",
       "\n",
       "    .dataframe thead th {\n",
       "        text-align: right;\n",
       "    }\n",
       "</style>\n",
       "<table border=\"1\" class=\"dataframe\">\n",
       "  <thead>\n",
       "    <tr style=\"text-align: right;\">\n",
       "      <th></th>\n",
       "      <th>Title</th>\n",
       "      <th>Type</th>\n",
       "      <th>Genres</th>\n",
       "      <th>Release Year</th>\n",
       "      <th>IMDB Average Rating</th>\n",
       "      <th>Available Countries</th>\n",
       "      <th>Streaming Service</th>\n",
       "    </tr>\n",
       "  </thead>\n",
       "  <tbody>\n",
       "    <tr>\n",
       "      <th>8421</th>\n",
       "      <td>Planet Earth II</td>\n",
       "      <td>tv</td>\n",
       "      <td>Documentary</td>\n",
       "      <td>2016.0</td>\n",
       "      <td>9.5</td>\n",
       "      <td>ID, MY, PH, SG, TH, US</td>\n",
       "      <td>HBO</td>\n",
       "    </tr>\n",
       "    <tr>\n",
       "      <th>5972</th>\n",
       "      <td>Band of Brothers</td>\n",
       "      <td>tv</td>\n",
       "      <td>Action, Drama, History</td>\n",
       "      <td>2001.0</td>\n",
       "      <td>9.4</td>\n",
       "      <td>AD, AG, AR, BA, BB, BE, BG, BO, BR, BS, BZ, CL...</td>\n",
       "      <td>HBO</td>\n",
       "    </tr>\n",
       "    <tr>\n",
       "      <th>8089</th>\n",
       "      <td>Planet Earth</td>\n",
       "      <td>tv</td>\n",
       "      <td>Documentary, Family</td>\n",
       "      <td>2006.0</td>\n",
       "      <td>9.4</td>\n",
       "      <td>ID, MY, PH, SG, TH, US</td>\n",
       "      <td>HBO</td>\n",
       "    </tr>\n",
       "    <tr>\n",
       "      <th>5887</th>\n",
       "      <td>The Wire</td>\n",
       "      <td>tv</td>\n",
       "      <td>Crime, Drama, Thriller</td>\n",
       "      <td>2002.0</td>\n",
       "      <td>9.3</td>\n",
       "      <td>AD, AG, AR, BA, BB, BE, BG, BO, BR, BS, BZ, CL...</td>\n",
       "      <td>HBO</td>\n",
       "    </tr>\n",
       "    <tr>\n",
       "      <th>6690</th>\n",
       "      <td>Chernobyl</td>\n",
       "      <td>tv</td>\n",
       "      <td>Drama, History, Thriller</td>\n",
       "      <td>2019.0</td>\n",
       "      <td>9.3</td>\n",
       "      <td>AD, AG, AR, BA, BB, BE, BG, BO, BR, BS, BZ, CL...</td>\n",
       "      <td>HBO</td>\n",
       "    </tr>\n",
       "  </tbody>\n",
       "</table>\n",
       "</div>"
      ],
      "text/plain": [
       "                 Title Type                    Genres  Release Year  \\\n",
       "8421   Planet Earth II   tv               Documentary        2016.0   \n",
       "5972  Band of Brothers   tv    Action, Drama, History        2001.0   \n",
       "8089      Planet Earth   tv       Documentary, Family        2006.0   \n",
       "5887          The Wire   tv    Crime, Drama, Thriller        2002.0   \n",
       "6690         Chernobyl   tv  Drama, History, Thriller        2019.0   \n",
       "\n",
       "      IMDB Average Rating                                Available Countries  \\\n",
       "8421                  9.5                             ID, MY, PH, SG, TH, US   \n",
       "5972                  9.4  AD, AG, AR, BA, BB, BE, BG, BO, BR, BS, BZ, CL...   \n",
       "8089                  9.4                             ID, MY, PH, SG, TH, US   \n",
       "5887                  9.3  AD, AG, AR, BA, BB, BE, BG, BO, BR, BS, BZ, CL...   \n",
       "6690                  9.3  AD, AG, AR, BA, BB, BE, BG, BO, BR, BS, BZ, CL...   \n",
       "\n",
       "     Streaming Service  \n",
       "8421               HBO  \n",
       "5972               HBO  \n",
       "8089               HBO  \n",
       "5887               HBO  \n",
       "6690               HBO  "
      ]
     },
     "execution_count": 109,
     "metadata": {},
     "output_type": "execute_result"
    }
   ],
   "source": [
    "# Create a DataFrame for the top 10 TV shows\n",
    "top_10_tv = hbo_tv.nlargest(10, 'IMDB Average Rating')\n",
    "top_10_tv.head()"
   ]
  },
  {
   "cell_type": "code",
   "execution_count": 138,
   "metadata": {},
   "outputs": [
    {
     "data": {
      "image/png": "[encoded data removed]",
      "text/plain": [
       "<Figure size 1500x700 with 2 Axes>"
      ]
     },
     "metadata": {},
     "output_type": "display_data"
    }
   ],
   "source": [
    "# Plot the top 10 movies and tv shows side by side\n",
    "fig, ax = plt.subplots(1, 2, figsize=(15, 7))\n",
    "\n",
    "# Plot the top 10 movies\n",
    "sns.barplot(x='IMDB Average Rating', y='Title', data=top_10_movies, palette='viridis', ax=ax[0])\n",
    "ax[0].set_title('Top 10 Movies for HBO')\n",
    "ax[0].set_ylabel('')\n",
    "ax[0].set_xlabel('IMDB Average Rating')\n",
    "\n",
    "# Plot the top 10 TV shows\n",
    "sns.barplot(x='IMDB Average Rating', y='Title', data=top_10_tv, palette='viridis', ax=ax[1])\n",
    "ax[1].set_title('Top 10 TV Shows for HBO')\n",
    "ax[1].set_ylabel('')\n",
    "ax[1].set_xlabel('IMDB Average Rating')\n",
    "\n",
    "plt.tight_layout()\n",
    "\n",
    "# Save the bar chart\n",
    "plt.savefig(\"../Images/Names_of_Top_10_HBO.png\")\n",
    "plt.show()\n"
   ]
  },
  {
   "cell_type": "code",
   "execution_count": 111,
   "metadata": {},
   "outputs": [
    {
     "name": "stdout",
     "output_type": "stream",
     "text": [
      "The margin of difference between the top 10 movies for HBO is 0.5\n",
      "The margin of difference between the top 10 TV shows for HBO is 0.3000000000000007\n"
     ]
    }
   ],
   "source": [
    "# What is the margin of difference between the top 10 movies for HBO?\n",
    "top_10_movies['IMDB Average Rating'].max() - top_10_movies['IMDB Average Rating'].min()\n",
    "\n",
    "# What is the margin of difference between the top 10 TV shows for HBO?\n",
    "top_10_tv['IMDB Average Rating'].max() - top_10_tv['IMDB Average Rating'].min()\n",
    "\n",
    "print(f'The margin of difference between the top 10 movies for HBO is {top_10_movies[\"IMDB Average Rating\"].max() - top_10_movies[\"IMDB Average Rating\"].min()}')\n",
    "print(f'The margin of difference between the top 10 TV shows for HBO is {top_10_tv[\"IMDB Average Rating\"].max() - top_10_tv[\"IMDB Average Rating\"].min()}')\n"
   ]
  },
  {
   "cell_type": "markdown",
   "metadata": {},
   "source": [
    "**Findings & Analysis: Genres**\n",
    "\n",
    "**Top 10 Movie Genres on HBO Max**\n",
    "* Based on the data recieved, it can be determined that 'Drama' is the highest ranking movie genre with a significant dip in 'Comedy' coming in at second and then 'Documentary'. \n",
    "\n",
    "**Top 10 TV Show Genres on HBO Max**\n",
    "* It can be determined that 'Documentary' is the highest-ranking TV show genre. The next is 'Reality-TV’ and then 'Drama'. \n",
    "\n",
    "**Discuss the top 10 movies and TV shows and data correlation. Any significant findings? Why?** \n",
    "* The top 10 movies and TV shows were plotted side by side to analyze the different titles. Based on the data received, \"The Shawshank Redemption\" was the top-rated movie title for HBO. Then 'Celebrity Habla\" and \"The Godfather\". Also, when looking at the data visualization, most of the top 10 movie titles were popular ones. This continues to prove HBO's strategy of investing and providing high-quality, critically acclaimed movies such as \"Harry Potter,” \"Lord of the Rings,” and \"The Dark Knight.” \n",
    "\n",
    "* Based on the data received, \"Planet Earth II\" came in first for most popular TV shows, with \"Band of Brothers\" in close second and \"Plant Eart I\" in third. Other popular titles are original HBO TV shows such as \"Chernobyl,” \"The Sopranos,” and \"Game of Thrones.”\n",
    "\n",
    "* The margin of difference between the top 10 movies was 0.5, and for TV shows, it was 0.3. This goes onto show that for all the top 10 movies and TV shows, they were ranked similarly within IMDB scores. "
   ]
  },
  {
   "cell_type": "markdown",
   "metadata": {},
   "source": [
    "## Part 4: Data Visualization of the Least Popular Streaming Service  \n",
    "\n",
    "Amazon Prime was considered the least popular streaming service based on the data obtained. However, there was not enough data available to us to properly analyze in order to determine how to improve the streaming service. We took the second least popular streaming service, Netflix, and analyzed various aspects of the service to understand better why it is not performing well. Here, we reviewed the data to determine how Netflix can improve in the future and what aspects to look for regarding demographic information (gender, age, location by country, and devices used) and membership analysis (subscription plan and user length). \n",
    "\n",
    "A new dataset and CSV file were provided, cleaned, and analyzed. "
   ]
  },
  {
   "cell_type": "code",
   "execution_count": 112,
   "metadata": {},
   "outputs": [
    {
     "data": {
      "text/html": [
       "<div>\n",
       "<style scoped>\n",
       "    .dataframe tbody tr th:only-of-type {\n",
       "        vertical-align: middle;\n",
       "    }\n",
       "\n",
       "    .dataframe tbody tr th {\n",
       "        vertical-align: top;\n",
       "    }\n",
       "\n",
       "    .dataframe thead th {\n",
       "        text-align: right;\n",
       "    }\n",
       "</style>\n",
       "<table border=\"1\" class=\"dataframe\">\n",
       "  <thead>\n",
       "    <tr style=\"text-align: right;\">\n",
       "      <th></th>\n",
       "      <th>User ID</th>\n",
       "      <th>Subscription Type</th>\n",
       "      <th>Monthly Revenue</th>\n",
       "      <th>Join Date</th>\n",
       "      <th>Last Payment Date</th>\n",
       "      <th>Country</th>\n",
       "      <th>Age</th>\n",
       "      <th>Gender</th>\n",
       "      <th>Device</th>\n",
       "    </tr>\n",
       "  </thead>\n",
       "  <tbody>\n",
       "    <tr>\n",
       "      <th>0</th>\n",
       "      <td>1</td>\n",
       "      <td>Basic</td>\n",
       "      <td>10</td>\n",
       "      <td>15-01-22</td>\n",
       "      <td>10-06-23</td>\n",
       "      <td>United States</td>\n",
       "      <td>28</td>\n",
       "      <td>Male</td>\n",
       "      <td>Smartphone</td>\n",
       "    </tr>\n",
       "    <tr>\n",
       "      <th>1</th>\n",
       "      <td>2</td>\n",
       "      <td>Premium</td>\n",
       "      <td>15</td>\n",
       "      <td>05-09-21</td>\n",
       "      <td>22-06-23</td>\n",
       "      <td>Canada</td>\n",
       "      <td>35</td>\n",
       "      <td>Female</td>\n",
       "      <td>Tablet</td>\n",
       "    </tr>\n",
       "    <tr>\n",
       "      <th>2</th>\n",
       "      <td>3</td>\n",
       "      <td>Standard</td>\n",
       "      <td>12</td>\n",
       "      <td>28-02-23</td>\n",
       "      <td>27-06-23</td>\n",
       "      <td>United Kingdom</td>\n",
       "      <td>42</td>\n",
       "      <td>Male</td>\n",
       "      <td>Smart TV</td>\n",
       "    </tr>\n",
       "    <tr>\n",
       "      <th>3</th>\n",
       "      <td>4</td>\n",
       "      <td>Standard</td>\n",
       "      <td>12</td>\n",
       "      <td>10-07-22</td>\n",
       "      <td>26-06-23</td>\n",
       "      <td>Australia</td>\n",
       "      <td>51</td>\n",
       "      <td>Female</td>\n",
       "      <td>Laptop</td>\n",
       "    </tr>\n",
       "    <tr>\n",
       "      <th>4</th>\n",
       "      <td>5</td>\n",
       "      <td>Basic</td>\n",
       "      <td>10</td>\n",
       "      <td>01-05-23</td>\n",
       "      <td>28-06-23</td>\n",
       "      <td>Germany</td>\n",
       "      <td>33</td>\n",
       "      <td>Male</td>\n",
       "      <td>Smartphone</td>\n",
       "    </tr>\n",
       "  </tbody>\n",
       "</table>\n",
       "</div>"
      ],
      "text/plain": [
       "   User ID Subscription Type  Monthly Revenue Join Date Last Payment Date  \\\n",
       "0        1             Basic               10  15-01-22          10-06-23   \n",
       "1        2           Premium               15  05-09-21          22-06-23   \n",
       "2        3          Standard               12  28-02-23          27-06-23   \n",
       "3        4          Standard               12  10-07-22          26-06-23   \n",
       "4        5             Basic               10  01-05-23          28-06-23   \n",
       "\n",
       "          Country  Age  Gender      Device  \n",
       "0   United States   28    Male  Smartphone  \n",
       "1          Canada   35  Female      Tablet  \n",
       "2  United Kingdom   42    Male    Smart TV  \n",
       "3       Australia   51  Female      Laptop  \n",
       "4         Germany   33    Male  Smartphone  "
      ]
     },
     "execution_count": 112,
     "metadata": {},
     "output_type": "execute_result"
    }
   ],
   "source": [
    "# Load new CSV file\n",
    "netflix_userbase = Path(\"../Input_csv/Netflix_Userbase.csv\")\n",
    "\n",
    "# Read the CSV file into a DataFrame\n",
    "netflix_userbase_df = pd.read_csv(netflix_userbase)\n",
    "netflix_userbase_df.head()"
   ]
  },
  {
   "cell_type": "code",
   "execution_count": 113,
   "metadata": {},
   "outputs": [
    {
     "name": "stdout",
     "output_type": "stream",
     "text": [
      "NaN count per column:\n",
      "User ID              0\n",
      "Subscription Type    0\n",
      "Monthly Revenue      0\n",
      "Join Date            0\n",
      "Last Payment Date    0\n",
      "Country              0\n",
      "Age                  0\n",
      "Gender               0\n",
      "Device               0\n",
      "dtype: int64\n",
      "\n",
      "Rows with NaN values:\n",
      "Empty DataFrame\n",
      "Columns: [User ID, Subscription Type, Monthly Revenue, Join Date, Last Payment Date, Country, Age, Gender, Device]\n",
      "Index: []\n"
     ]
    }
   ],
   "source": [
    "# Check for NaN values\n",
    "print(\"NaN count per column:\")\n",
    "print(netflix_userbase_df.isnull().sum())\n",
    "\n",
    "# Get rows with NaN\n",
    "rows_with_nan = netflix_userbase_df[netflix_userbase_df.isnull().any(axis=1)]\n",
    "print(\"\\nRows with NaN values:\")\n",
    "print(rows_with_nan)"
   ]
  },
  {
   "cell_type": "markdown",
   "metadata": {},
   "source": [
    "#### Statistical Summary"
   ]
  },
  {
   "cell_type": "code",
   "execution_count": 114,
   "metadata": {},
   "outputs": [
    {
     "name": "stdout",
     "output_type": "stream",
     "text": [
      "\n",
      "Summary statistics (age):\n",
      "Average Age: 38.7956\n",
      "Median Age: 39.0\n",
      "Standard Deviation: 7.171777631644702\n",
      "Max Age: 51\n",
      "Min Age: 26\n"
     ]
    }
   ],
   "source": [
    "# Basic statistics summary of the age data\n",
    "print(\"\\nSummary statistics (age):\")\n",
    "\n",
    "# Calculate the average mean, std, max, and min\n",
    "age_mean = netflix_userbase_df[\"Age\"].mean()\n",
    "age_median = netflix_userbase_df[\"Age\"].median()\n",
    "age_std = netflix_userbase_df[\"Age\"].std()\n",
    "age_max = netflix_userbase_df[\"Age\"].max()\n",
    "age_min = netflix_userbase_df[\"Age\"].min()\n",
    "\n",
    "# Print the summary\n",
    "print(f\"Average Age: {age_mean}\")\n",
    "print(f\"Median Age: {age_median}\")\n",
    "print(f\"Standard Deviation: {age_std}\")\n",
    "print(f\"Max Age: {age_max}\")\n",
    "print(f\"Min Age: {age_min}\")\n"
   ]
  },
  {
   "cell_type": "markdown",
   "metadata": {},
   "source": [
    "It is interesting to see that the average age is 38 for Netflix users, the minimum age is 27, and the maximum age is 51. This correlates because most people in their 20s and 30s use streaming services, and most later generations find the technology to be difficult to manage. However, we predicted that there would be a lower age range since many college-age young adults use Netflix and streaming services. \n",
    "\n",
    "We will review this later on when during data visualization of age in the 'Demographic Information of Netflix Users.'"
   ]
  },
  {
   "cell_type": "markdown",
   "metadata": {},
   "source": [
    "### Demographic Information on Netflix Users\n",
    "\n",
    "#### Gender Distribution "
   ]
  },
  {
   "cell_type": "code",
   "execution_count": 139,
   "metadata": {},
   "outputs": [
    {
     "data": {
      "image/png": "[encoded data removed]",
      "text/plain": [
       "<Figure size 600x600 with 1 Axes>"
      ]
     },
     "metadata": {},
     "output_type": "display_data"
    }
   ],
   "source": [
    "# Gender distribution of Netflix users\n",
    "gender_distribution = netflix_userbase_df['Gender'].value_counts()\n",
    "\n",
    "# Create a pie chart for the gender distribution of Netflix users\n",
    "gender_distribution.plot.pie(labels=gender_distribution.index, autopct='%1.1f%%', \n",
    "                             title='Gender Distribution of Netflix Users', \n",
    "                             figsize=(6, 6), legend=False, startangle=180, \n",
    "                             colors=['skyblue', 'pink'])\n",
    "plt.ylabel('')\n",
    "\n",
    "# Save the pie chart\n",
    "plt.savefig(\"../Images/Gender_Distribution_of_Netflix_Users.png\")"
   ]
  },
  {
   "cell_type": "markdown",
   "metadata": {},
   "source": [
    "**Discussion: Gender Distribution of Netflix Users**\n",
    "\n",
    "The data shows that 50.3% of females use Netflix, contrasting the 49.7% of male viewers and streamers. Why is that? Well, it can be assumed that with the rise of Reality-TV shows and more content originals on Netflix, they favor towards a female audience. "
   ]
  },
  {
   "cell_type": "markdown",
   "metadata": {},
   "source": [
    "#### Age Distribution "
   ]
  },
  {
   "cell_type": "code",
   "execution_count": 140,
   "metadata": {},
   "outputs": [
    {
     "data": {
      "image/png": "[encoded data removed]",
      "text/plain": [
       "<Figure size 640x480 with 1 Axes>"
      ]
     },
     "metadata": {},
     "output_type": "display_data"
    }
   ],
   "source": [
    "# Create a histogram to show the age distribution of Netflix users\n",
    "plt.hist(netflix_userbase_df['Age'], bins=20, color='skyblue', edgecolor='black')\n",
    "\n",
    "# Graph properties\n",
    "plt.title('Age Distribution of Netflix Users')\n",
    "plt.xlabel('Age')\n",
    "plt.ylabel('Frequency')\n",
    "plt.grid(True)\n",
    "\n",
    "# Save the histogram\n",
    "plt.savefig(\"../Images/Age_Distribution_of_Netflix_Users.png\")\n",
    "plt.show()"
   ]
  },
  {
   "cell_type": "code",
   "execution_count": 117,
   "metadata": {},
   "outputs": [
    {
     "name": "stdout",
     "output_type": "stream",
     "text": [
      "The average age of Netflix users is 38.7956\n"
     ]
    }
   ],
   "source": [
    "# What is the average distribution of Netflix users\n",
    "average_age = netflix_userbase_df['Age'].mean()\n",
    "print(f\"The average age of Netflix users is {average_age}\")"
   ]
  },
  {
   "cell_type": "markdown",
   "metadata": {},
   "source": [
    "**Findings & Analysis: Age of Netflix Users**\n",
    "\n",
    "**Discussion of Summary of Statistics (as seen above) and data visualization and correlation**\n",
    "* Based on the data, the average age is 38 years old. While the minimum age is 27 and the maximum is 51. As discussed earlier, this tends to correlate simply because most young adults in their 20s use streaming services, and most within the age range of 25-35 grew up with the rise of these types of platforms (i.e., Gen Z). They are most likely to spend money on streaming services, whereas the older generation is more loyal to traditional cable and TV. As the nature of technology increases, it can be found that more and more of the older generation use streaming services. \n",
    "\n",
    "* When looking at the histogram, the data shows a 'Ragged Plateau' which means that there is not a clear process or pattern of variation. "
   ]
  },
  {
   "cell_type": "markdown",
   "metadata": {},
   "source": [
    "#### Netflix Users by Country "
   ]
  },
  {
   "cell_type": "code",
   "execution_count": 118,
   "metadata": {},
   "outputs": [
    {
     "data": {
      "text/plain": [
       "Country\n",
       "United States     451\n",
       "Spain             451\n",
       "Canada            317\n",
       "United Kingdom    183\n",
       "Australia         183\n",
       "Germany           183\n",
       "France            183\n",
       "Brazil            183\n",
       "Mexico            183\n",
       "Italy             183\n",
       "Name: count, dtype: int64"
      ]
     },
     "execution_count": 118,
     "metadata": {},
     "output_type": "execute_result"
    }
   ],
   "source": [
    "# Country distribution of Netflix users\n",
    "country_distribution = netflix_userbase_df['Country'].value_counts()\n",
    "country_distribution\n"
   ]
  },
  {
   "cell_type": "code",
   "execution_count": 148,
   "metadata": {},
   "outputs": [
    {
     "data": {
      "image/png": "[encoded data removed]",
      "text/plain": [
       "<Figure size 640x480 with 1 Axes>"
      ]
     },
     "metadata": {},
     "output_type": "display_data"
    }
   ],
   "source": [
    "# Analyze the location/country distribution of Netflix users\n",
    "sns.countplot(y=\"Country\", data=netflix_userbase_df, palette=\"pastel\", \n",
    "              order = netflix_userbase_df['Country'], orient=\"h\")\n",
    "plt.title(\"Location of Netflix Users\")\n",
    "plt.xlabel(\"Number of Users\")\n",
    "plt.ylabel(\"Country\")\n",
    "\n",
    "# Save the bar chart\n",
    "plt.savefig(\"../Images/Location_of_Netflix_Users.png\")\n",
    "plt.show()"
   ]
  },
  {
   "cell_type": "code",
   "execution_count": 120,
   "metadata": {},
   "outputs": [
    {
     "data": {
      "application/vnd.plotly.v1+json": {
       "config": {
        "plotlyServerURL": "https://plot.ly"
       },
       "data": [
        {
         "geo": "geo",
         "hovertemplate": "<b>%{hovertext}</b><br><br>Count=%{marker.size}<br>Country=%{location}<extra></extra>",
         "hovertext": [
          "United States",
          "Spain",
          "Canada",
          "United Kingdom",
          "Australia",
          "Germany",
          "France",
          "Brazil",
          "Mexico",
          "Italy"
         ],
         "legendgroup": "",
         "locationmode": "country names",
         "locations": [
          "United States",
          "Spain",
          "Canada",
          "United Kingdom",
          "Australia",
          "Germany",
          "France",
          "Brazil",
          "Mexico",
          "Italy"
         ],
         "marker": {
          "color": "#636efa",
          "size": [
           451,
           451,
           317,
           183,
           183,
           183,
           183,
           183,
           183,
           183
          ],
          "sizemode": "area",
          "sizeref": 1.1275,
          "symbol": "circle"
         },
         "mode": "markers",
         "name": "",
         "showlegend": false,
         "type": "scattergeo"
        }
       ],
       "layout": {
        "geo": {
         "center": {},
         "domain": {
          "x": [
           0,
           1
          ],
          "y": [
           0,
           1
          ]
         },
         "projection": {
          "type": "natural earth"
         }
        },
        "legend": {
         "itemsizing": "constant",
         "tracegroupgap": 0
        },
        "template": {
         "data": {
          "bar": [
           {
            "error_x": {
             "color": "#2a3f5f"
            },
            "error_y": {
             "color": "#2a3f5f"
            },
            "marker": {
             "line": {
              "color": "#E5ECF6",
              "width": 0.5
             },
             "pattern": {
              "fillmode": "overlay",
              "size": 10,
              "solidity": 0.2
             }
            },
            "type": "bar"
           }
          ],
          "barpolar": [
           {
            "marker": {
             "line": {
              "color": "#E5ECF6",
              "width": 0.5
             },
             "pattern": {
              "fillmode": "overlay",
              "size": 10,
              "solidity": 0.2
             }
            },
            "type": "barpolar"
           }
          ],
          "carpet": [
           {
            "aaxis": {
             "endlinecolor": "#2a3f5f",
             "gridcolor": "white",
             "linecolor": "white",
             "minorgridcolor": "white",
             "startlinecolor": "#2a3f5f"
            },
            "baxis": {
             "endlinecolor": "#2a3f5f",
             "gridcolor": "white",
             "linecolor": "white",
             "minorgridcolor": "white",
             "startlinecolor": "#2a3f5f"
            },
            "type": "carpet"
           }
          ],
          "choropleth": [
           {
            "colorbar": {
             "outlinewidth": 0,
             "ticks": ""
            },
            "type": "choropleth"
           }
          ],
          "contour": [
           {
            "colorbar": {
             "outlinewidth": 0,
             "ticks": ""
            },
            "colorscale": [
             [
              0,
              "#0d0887"
             ],
             [
              0.1111111111111111,
              "#46039f"
             ],
             [
              0.2222222222222222,
              "#7201a8"
             ],
             [
              0.3333333333333333,
              "#9c179e"
             ],
             [
              0.4444444444444444,
              "#bd3786"
             ],
             [
              0.5555555555555556,
              "#d8576b"
             ],
             [
              0.6666666666666666,
              "#ed7953"
             ],
             [
              0.7777777777777778,
              "#fb9f3a"
             ],
             [
              0.8888888888888888,
              "#fdca26"
             ],
             [
              1,
              "#f0f921"
             ]
            ],
            "type": "contour"
           }
          ],
          "contourcarpet": [
           {
            "colorbar": {
             "outlinewidth": 0,
             "ticks": ""
            },
            "type": "contourcarpet"
           }
          ],
          "heatmap": [
           {
            "colorbar": {
             "outlinewidth": 0,
             "ticks": ""
            },
            "colorscale": [
             [
              0,
              "#0d0887"
             ],
             [
              0.1111111111111111,
              "#46039f"
             ],
             [
              0.2222222222222222,
              "#7201a8"
             ],
             [
              0.3333333333333333,
              "#9c179e"
             ],
             [
              0.4444444444444444,
              "#bd3786"
             ],
             [
              0.5555555555555556,
              "#d8576b"
             ],
             [
              0.6666666666666666,
              "#ed7953"
             ],
             [
              0.7777777777777778,
              "#fb9f3a"
             ],
             [
              0.8888888888888888,
              "#fdca26"
             ],
             [
              1,
              "#f0f921"
             ]
            ],
            "type": "heatmap"
           }
          ],
          "heatmapgl": [
           {
            "colorbar": {
             "outlinewidth": 0,
             "ticks": ""
            },
            "colorscale": [
             [
              0,
              "#0d0887"
             ],
             [
              0.1111111111111111,
              "#46039f"
             ],
             [
              0.2222222222222222,
              "#7201a8"
             ],
             [
              0.3333333333333333,
              "#9c179e"
             ],
             [
              0.4444444444444444,
              "#bd3786"
             ],
             [
              0.5555555555555556,
              "#d8576b"
             ],
             [
              0.6666666666666666,
              "#ed7953"
             ],
             [
              0.7777777777777778,
              "#fb9f3a"
             ],
             [
              0.8888888888888888,
              "#fdca26"
             ],
             [
              1,
              "#f0f921"
             ]
            ],
            "type": "heatmapgl"
           }
          ],
          "histogram": [
           {
            "marker": {
             "pattern": {
              "fillmode": "overlay",
              "size": 10,
              "solidity": 0.2
             }
            },
            "type": "histogram"
           }
          ],
          "histogram2d": [
           {
            "colorbar": {
             "outlinewidth": 0,
             "ticks": ""
            },
            "colorscale": [
             [
              0,
              "#0d0887"
             ],
             [
              0.1111111111111111,
              "#46039f"
             ],
             [
              0.2222222222222222,
              "#7201a8"
             ],
             [
              0.3333333333333333,
              "#9c179e"
             ],
             [
              0.4444444444444444,
              "#bd3786"
             ],
             [
              0.5555555555555556,
              "#d8576b"
             ],
             [
              0.6666666666666666,
              "#ed7953"
             ],
             [
              0.7777777777777778,
              "#fb9f3a"
             ],
             [
              0.8888888888888888,
              "#fdca26"
             ],
             [
              1,
              "#f0f921"
             ]
            ],
            "type": "histogram2d"
           }
          ],
          "histogram2dcontour": [
           {
            "colorbar": {
             "outlinewidth": 0,
             "ticks": ""
            },
            "colorscale": [
             [
              0,
              "#0d0887"
             ],
             [
              0.1111111111111111,
              "#46039f"
             ],
             [
              0.2222222222222222,
              "#7201a8"
             ],
             [
              0.3333333333333333,
              "#9c179e"
             ],
             [
              0.4444444444444444,
              "#bd3786"
             ],
             [
              0.5555555555555556,
              "#d8576b"
             ],
             [
              0.6666666666666666,
              "#ed7953"
             ],
             [
              0.7777777777777778,
              "#fb9f3a"
             ],
             [
              0.8888888888888888,
              "#fdca26"
             ],
             [
              1,
              "#f0f921"
             ]
            ],
            "type": "histogram2dcontour"
           }
          ],
          "mesh3d": [
           {
            "colorbar": {
             "outlinewidth": 0,
             "ticks": ""
            },
            "type": "mesh3d"
           }
          ],
          "parcoords": [
           {
            "line": {
             "colorbar": {
              "outlinewidth": 0,
              "ticks": ""
             }
            },
            "type": "parcoords"
           }
          ],
          "pie": [
           {
            "automargin": true,
            "type": "pie"
           }
          ],
          "scatter": [
           {
            "fillpattern": {
             "fillmode": "overlay",
             "size": 10,
             "solidity": 0.2
            },
            "type": "scatter"
           }
          ],
          "scatter3d": [
           {
            "line": {
             "colorbar": {
              "outlinewidth": 0,
              "ticks": ""
             }
            },
            "marker": {
             "colorbar": {
              "outlinewidth": 0,
              "ticks": ""
             }
            },
            "type": "scatter3d"
           }
          ],
          "scattercarpet": [
           {
            "marker": {
             "colorbar": {
              "outlinewidth": 0,
              "ticks": ""
             }
            },
            "type": "scattercarpet"
           }
          ],
          "scattergeo": [
           {
            "marker": {
             "colorbar": {
              "outlinewidth": 0,
              "ticks": ""
             }
            },
            "type": "scattergeo"
           }
          ],
          "scattergl": [
           {
            "marker": {
             "colorbar": {
              "outlinewidth": 0,
              "ticks": ""
             }
            },
            "type": "scattergl"
           }
          ],
          "scattermapbox": [
           {
            "marker": {
             "colorbar": {
              "outlinewidth": 0,
              "ticks": ""
             }
            },
            "type": "scattermapbox"
           }
          ],
          "scatterpolar": [
           {
            "marker": {
             "colorbar": {
              "outlinewidth": 0,
              "ticks": ""
             }
            },
            "type": "scatterpolar"
           }
          ],
          "scatterpolargl": [
           {
            "marker": {
             "colorbar": {
              "outlinewidth": 0,
              "ticks": ""
             }
            },
            "type": "scatterpolargl"
           }
          ],
          "scatterternary": [
           {
            "marker": {
             "colorbar": {
              "outlinewidth": 0,
              "ticks": ""
             }
            },
            "type": "scatterternary"
           }
          ],
          "surface": [
           {
            "colorbar": {
             "outlinewidth": 0,
             "ticks": ""
            },
            "colorscale": [
             [
              0,
              "#0d0887"
             ],
             [
              0.1111111111111111,
              "#46039f"
             ],
             [
              0.2222222222222222,
              "#7201a8"
             ],
             [
              0.3333333333333333,
              "#9c179e"
             ],
             [
              0.4444444444444444,
              "#bd3786"
             ],
             [
              0.5555555555555556,
              "#d8576b"
             ],
             [
              0.6666666666666666,
              "#ed7953"
             ],
             [
              0.7777777777777778,
              "#fb9f3a"
             ],
             [
              0.8888888888888888,
              "#fdca26"
             ],
             [
              1,
              "#f0f921"
             ]
            ],
            "type": "surface"
           }
          ],
          "table": [
           {
            "cells": {
             "fill": {
              "color": "#EBF0F8"
             },
             "line": {
              "color": "white"
             }
            },
            "header": {
             "fill": {
              "color": "#C8D4E3"
             },
             "line": {
              "color": "white"
             }
            },
            "type": "table"
           }
          ]
         },
         "layout": {
          "annotationdefaults": {
           "arrowcolor": "#2a3f5f",
           "arrowhead": 0,
           "arrowwidth": 1
          },
          "autotypenumbers": "strict",
          "coloraxis": {
           "colorbar": {
            "outlinewidth": 0,
            "ticks": ""
           }
          },
          "colorscale": {
           "diverging": [
            [
             0,
             "#8e0152"
            ],
            [
             0.1,
             "#c51b7d"
            ],
            [
             0.2,
             "#de77ae"
            ],
            [
             0.3,
             "#f1b6da"
            ],
            [
             0.4,
             "#fde0ef"
            ],
            [
             0.5,
             "#f7f7f7"
            ],
            [
             0.6,
             "#e6f5d0"
            ],
            [
             0.7,
             "#b8e186"
            ],
            [
             0.8,
             "#7fbc41"
            ],
            [
             0.9,
             "#4d9221"
            ],
            [
             1,
             "#276419"
            ]
           ],
           "sequential": [
            [
             0,
             "#0d0887"
            ],
            [
             0.1111111111111111,
             "#46039f"
            ],
            [
             0.2222222222222222,
             "#7201a8"
            ],
            [
             0.3333333333333333,
             "#9c179e"
            ],
            [
             0.4444444444444444,
             "#bd3786"
            ],
            [
             0.5555555555555556,
             "#d8576b"
            ],
            [
             0.6666666666666666,
             "#ed7953"
            ],
            [
             0.7777777777777778,
             "#fb9f3a"
            ],
            [
             0.8888888888888888,
             "#fdca26"
            ],
            [
             1,
             "#f0f921"
            ]
           ],
           "sequentialminus": [
            [
             0,
             "#0d0887"
            ],
            [
             0.1111111111111111,
             "#46039f"
            ],
            [
             0.2222222222222222,
             "#7201a8"
            ],
            [
             0.3333333333333333,
             "#9c179e"
            ],
            [
             0.4444444444444444,
             "#bd3786"
            ],
            [
             0.5555555555555556,
             "#d8576b"
            ],
            [
             0.6666666666666666,
             "#ed7953"
            ],
            [
             0.7777777777777778,
             "#fb9f3a"
            ],
            [
             0.8888888888888888,
             "#fdca26"
            ],
            [
             1,
             "#f0f921"
            ]
           ]
          },
          "colorway": [
           "#636efa",
           "#EF553B",
           "#00cc96",
           "#ab63fa",
           "#FFA15A",
           "#19d3f3",
           "#FF6692",
           "#B6E880",
           "#FF97FF",
           "#FECB52"
          ],
          "font": {
           "color": "#2a3f5f"
          },
          "geo": {
           "bgcolor": "white",
           "lakecolor": "white",
           "landcolor": "#E5ECF6",
           "showlakes": true,
           "showland": true,
           "subunitcolor": "white"
          },
          "hoverlabel": {
           "align": "left"
          },
          "hovermode": "closest",
          "mapbox": {
           "style": "light"
          },
          "paper_bgcolor": "white",
          "plot_bgcolor": "#E5ECF6",
          "polar": {
           "angularaxis": {
            "gridcolor": "white",
            "linecolor": "white",
            "ticks": ""
           },
           "bgcolor": "#E5ECF6",
           "radialaxis": {
            "gridcolor": "white",
            "linecolor": "white",
            "ticks": ""
           }
          },
          "scene": {
           "xaxis": {
            "backgroundcolor": "#E5ECF6",
            "gridcolor": "white",
            "gridwidth": 2,
            "linecolor": "white",
            "showbackground": true,
            "ticks": "",
            "zerolinecolor": "white"
           },
           "yaxis": {
            "backgroundcolor": "#E5ECF6",
            "gridcolor": "white",
            "gridwidth": 2,
            "linecolor": "white",
            "showbackground": true,
            "ticks": "",
            "zerolinecolor": "white"
           },
           "zaxis": {
            "backgroundcolor": "#E5ECF6",
            "gridcolor": "white",
            "gridwidth": 2,
            "linecolor": "white",
            "showbackground": true,
            "ticks": "",
            "zerolinecolor": "white"
           }
          },
          "shapedefaults": {
           "line": {
            "color": "#2a3f5f"
           }
          },
          "ternary": {
           "aaxis": {
            "gridcolor": "white",
            "linecolor": "white",
            "ticks": ""
           },
           "baxis": {
            "gridcolor": "white",
            "linecolor": "white",
            "ticks": ""
           },
           "bgcolor": "#E5ECF6",
           "caxis": {
            "gridcolor": "white",
            "linecolor": "white",
            "ticks": ""
           }
          },
          "title": {
           "x": 0.05
          },
          "xaxis": {
           "automargin": true,
           "gridcolor": "white",
           "linecolor": "white",
           "ticks": "",
           "title": {
            "standoff": 15
           },
           "zerolinecolor": "white",
           "zerolinewidth": 2
          },
          "yaxis": {
           "automargin": true,
           "gridcolor": "white",
           "linecolor": "white",
           "ticks": "",
           "title": {
            "standoff": 15
           },
           "zerolinecolor": "white",
           "zerolinewidth": 2
          }
         }
        },
        "title": {
         "text": "Netflix Users by Country"
        }
       }
      }
     },
     "metadata": {},
     "output_type": "display_data"
    }
   ],
   "source": [
    "# Create a new DataFrame for the country counts\n",
    "country_counts = netflix_userbase_df['Country'].value_counts().reset_index(name='Count')\n",
    "country_counts.columns = ['Country', 'Count']\n",
    "\n",
    "# Bubble map using Plotly\n",
    "fig = px.scatter_geo(country_counts, locations=\"Country\", locationmode='country names', size=\"Count\", hover_name=\"Country\", title=\"Netflix Users by Country\", projection=\"natural earth\")\n",
    "fig.show()"
   ]
  },
  {
   "cell_type": "markdown",
   "metadata": {},
   "source": [
    "**Findings & Analysis: Location of Netflix Users**\n",
    "\n",
    "**Discussion of data visualization and correlation of the top 10 countries**\n",
    "* It can be seen that the United States has the most number of Netflix users based on the select data provided. This correlates since Netflix started in the States. The second most poplar country is Spane and then Canada. There is a significant dip in users in the UK, Australia, Germany, France, Brazil, Mexico, and Italy. "
   ]
  },
  {
   "cell_type": "markdown",
   "metadata": {},
   "source": [
    "#### Devices Used by Netflix Users "
   ]
  },
  {
   "cell_type": "code",
   "execution_count": 149,
   "metadata": {},
   "outputs": [
    {
     "data": {
      "image/png": "[encoded data removed]",
      "text/plain": [
       "<Figure size 1000x600 with 2 Axes>"
      ]
     },
     "metadata": {},
     "output_type": "display_data"
    }
   ],
   "source": [
    "# Devices used by Netflix users\n",
    "device_distribution = netflix_userbase_df['Device'].value_counts().reset_index()\n",
    "device_distribution.columns = ['Device', 'Count']\n",
    "\n",
    "# Create a heat map for the devices used\n",
    "plt.figure(figsize=(10, 6))\n",
    "sns.heatmap(device_distribution.set_index('Device').T, annot=True, fmt=\"d\", cmap=\"YlGnBu\")\n",
    "plt.title('Devices Used by Netflix Users')\n",
    "plt.xlabel('Device')\n",
    "plt.ylabel('')\n",
    "\n",
    "# Save the heat map\n",
    "plt.savefig(\"../Images/Devices_Used_by_Netflix_Users.png\")\n",
    "\n",
    "# Show the plot\n",
    "plt.show()"
   ]
  },
  {
   "cell_type": "markdown",
   "metadata": {},
   "source": [
    "**Findings & Analysis: Devices Used by Netflix Users**\n",
    "\n",
    "**Discussion of data visualization and correlation**\n",
    "* It can be seen that the laptop is the most popular device used, with the tablet as a close second. It is interesting to note that a Smart TV is last with the number of users in the dataset. We assumed that it would have more since most people watch streaming services on their TVs. "
   ]
  },
  {
   "cell_type": "markdown",
   "metadata": {},
   "source": [
    "### Membership Analysis of Netflix Users"
   ]
  },
  {
   "cell_type": "code",
   "execution_count": 122,
   "metadata": {},
   "outputs": [
    {
     "name": "stdout",
     "output_type": "stream",
     "text": [
      "The average membership length of Netflix users is 326.102 days\n"
     ]
    }
   ],
   "source": [
    "# Analyze the membership length of Netflix users\n",
    "netflix_userbase_df['Join Date'] = pd.to_datetime(netflix_userbase_df['Join Date'])\n",
    "netflix_userbase_df['Last Payment Date'] = pd.to_datetime(netflix_userbase_df['Last Payment Date'])\n",
    "\n",
    "# Calculate the membership length\n",
    "netflix_userbase_df['Membership Length'] = netflix_userbase_df['Last Payment Date'] - netflix_userbase_df['Join Date']\n",
    "netflix_userbase_df['Membership Length'] = netflix_userbase_df['Membership Length'].dt.days\n",
    "\n",
    "print(f'The average membership length of Netflix users is {netflix_userbase_df[\"Membership Length\"].mean()} days')"
   ]
  },
  {
   "cell_type": "code",
   "execution_count": 150,
   "metadata": {},
   "outputs": [
    {
     "data": {
      "image/png": "[encoded data removed]",
      "text/plain": [
       "<Figure size 1000x1000 with 1 Axes>"
      ]
     },
     "metadata": {},
     "output_type": "display_data"
    }
   ],
   "source": [
    "# Data Visualization\n",
    "# Filter out negative membership lengths\n",
    "netflix_userbase_df = netflix_userbase_df[netflix_userbase_df['Membership Length'] >= 0]\n",
    "\n",
    "# Create a box and whisker plot for the membership length of Netflix users\n",
    "plt.figure(figsize=(10, 10))\n",
    "sns.boxplot(y=netflix_userbase_df['Membership Length'], color='skyblue')\n",
    "plt.title('Netflix Membership Length', fontsize=14)\n",
    "plt.ylabel('Membership Length (Days)', fontsize=12)\n",
    "\n",
    "# Save the box and whisker plot\n",
    "plt.savefig(\"../Images/Netflix_Membership_Length.png\")\n",
    "\n",
    "# Show the plot\n",
    "plt.show()\n"
   ]
  },
  {
   "cell_type": "markdown",
   "metadata": {},
   "source": [
    "**Findings & Analysis: Netflix Membership Length**\n",
    "\n",
    "**Discussion of data visualization and correlation**\n",
    "* Based on the data, the average membership length is 326 days. When looking at the Wisker plot, it was interpreted that most people cancel their subscription close to a year into their service. Why is that? Well, most subscription services increase their rates around a year into service. Again, the number of streaming services adds up over time, and the average American has found it hard to maintain the added fees and price increases over time."
   ]
  },
  {
   "cell_type": "markdown",
   "metadata": {},
   "source": [
    "#### Subscription Plan Type of Netflix Users"
   ]
  },
  {
   "cell_type": "code",
   "execution_count": 130,
   "metadata": {},
   "outputs": [
    {
     "data": {
      "image/png": "[encoded data removed]",
      "text/plain": [
       "<Figure size 600x600 with 1 Axes>"
      ]
     },
     "metadata": {},
     "output_type": "display_data"
    }
   ],
   "source": [
    "# Analyze the subscription plan of Netflix users\n",
    "subscription_plan = netflix_userbase_df['Subscription Type'].value_counts().reset_index()\n",
    "subscription_plan.columns = ['Subscription Type', 'Count']\n",
    "\n",
    "# Create a pie chart for the subscription plan of Netflix users\n",
    "subscription_plan.plot.pie(y='Count', labels=subscription_plan['Subscription Type'], autopct='%1.1f%%', \n",
    "                          title='Netflix Subscription Type', figsize=(6, 6), legend=False, startangle=180, \n",
    "                          colors=['skyblue', 'lightgreen', 'pink'])\n",
    "plt.ylabel('')\n",
    "\n",
    "# Save the pie chart\n",
    "plt.savefig(\"../Images/Netflix_Subscription_Type.png\")\n",
    "plt.show()"
   ]
  },
  {
   "cell_type": "markdown",
   "metadata": {},
   "source": [
    "**Findings & Analysis: Netflix Subscription Type**\n",
    "\n",
    "**Discussion of data visualization and correlation**\n",
    "* It is interpreted that the 'Basic' subscription plan is the most popular at 40%, with 'Standard' coming in second at 30.7%, and last with 'Premium' at 29.3%. Why is this? Well, again, as mentioned above, cost is one of the main factors. "
   ]
  },
  {
   "cell_type": "markdown",
   "metadata": {},
   "source": [
    "Sources: Data was extracted from Kaggle(2025) from OctopusTeam Dataset. All data maintained and developed from OctopusTeam. Data was used for educational purposes only."
   ]
  }
 ],
 "metadata": {
  "kernelspec": {
   "display_name": "env1",
   "language": "python",
   "name": "python3"
  },
  "language_info": {
   "codemirror_mode": {
    "name": "ipython",
    "version": 3
   },
   "file_extension": ".py",
   "mimetype": "text/x-python",
   "name": "python",
   "nbconvert_exporter": "python",
   "pygments_lexer": "ipython3",
   "version": "3.11.10"
  }
 },
 "nbformat": 4,
 "nbformat_minor": 2
}
